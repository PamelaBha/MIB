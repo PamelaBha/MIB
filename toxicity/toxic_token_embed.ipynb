{
 "cells": [
  {
   "cell_type": "code",
   "execution_count": 31,
   "id": "5b72fda9",
   "metadata": {},
   "outputs": [],
   "source": [
    "\n",
    "import torch\n",
    "from transformers import AutoModelForCausalLM, AutoTokenizer, GPT2Tokenizer\n",
    "from fancy_einsum import einsum"
   ]
  },
  {
   "cell_type": "code",
   "execution_count": 32,
   "id": "36bdecfc",
   "metadata": {},
   "outputs": [
    {
     "data": {
      "application/vnd.jupyter.widget-view+json": {
       "model_id": "c80e62c033b847abb5260be956ba88e6",
       "version_major": 2,
       "version_minor": 0
      },
      "text/plain": [
       "Loading checkpoint shards:   0%|          | 0/4 [00:00<?, ?it/s]"
      ]
     },
     "metadata": {},
     "output_type": "display_data"
    }
   ],
   "source": [
    "model_name = \"meta-llama/Llama-3.1-8B\"\n",
    "model = AutoModelForCausalLM.from_pretrained(model_name)\n",
    "tokenizer = AutoTokenizer.from_pretrained(model_name)"
   ]
  },
  {
   "cell_type": "code",
   "execution_count": 3,
   "id": "ac163d47",
   "metadata": {},
   "outputs": [
    {
     "name": "stdout",
     "output_type": "stream",
     "text": [
      "LlamaForCausalLM(\n",
      "  (model): LlamaModel(\n",
      "    (embed_tokens): Embedding(128256, 4096)\n",
      "    (layers): ModuleList(\n",
      "      (0-31): 32 x LlamaDecoderLayer(\n",
      "        (self_attn): LlamaAttention(\n",
      "          (q_proj): Linear(in_features=4096, out_features=4096, bias=False)\n",
      "          (k_proj): Linear(in_features=4096, out_features=1024, bias=False)\n",
      "          (v_proj): Linear(in_features=4096, out_features=1024, bias=False)\n",
      "          (o_proj): Linear(in_features=4096, out_features=4096, bias=False)\n",
      "        )\n",
      "        (mlp): LlamaMLP(\n",
      "          (gate_proj): Linear(in_features=4096, out_features=14336, bias=False)\n",
      "          (up_proj): Linear(in_features=4096, out_features=14336, bias=False)\n",
      "          (down_proj): Linear(in_features=14336, out_features=4096, bias=False)\n",
      "          (act_fn): SiLU()\n",
      "        )\n",
      "        (input_layernorm): LlamaRMSNorm((4096,), eps=1e-05)\n",
      "        (post_attention_layernorm): LlamaRMSNorm((4096,), eps=1e-05)\n",
      "      )\n",
      "    )\n",
      "    (norm): LlamaRMSNorm((4096,), eps=1e-05)\n",
      "    (rotary_emb): LlamaRotaryEmbedding()\n",
      "  )\n",
      "  (lm_head): Linear(in_features=4096, out_features=128256, bias=False)\n",
      ")\n"
     ]
    }
   ],
   "source": [
    "print(model)"
   ]
  },
  {
   "cell_type": "code",
   "execution_count": 33,
   "id": "55bb7136",
   "metadata": {},
   "outputs": [],
   "source": [
    "token_embeds = model.model.embed_tokens.weight\n",
    "value_vectors = torch.cat(\n",
    "    [\n",
    "        model.model.layers[layer_idx].mlp.down_proj.weight\n",
    "        for layer_idx in range(model.config.num_hidden_layers)\n",
    "    ],\n",
    "    dim=0,\n",
    ")"
   ]
  },
  {
   "cell_type": "code",
   "execution_count": 34,
   "id": "ee0c18e6",
   "metadata": {
    "scrolled": false
   },
   "outputs": [
    {
     "name": "stdout",
     "output_type": "stream",
     "text": [
      "[71574, 41153, 99821]\n"
     ]
    }
   ],
   "source": [
    "seed_token_toxic = [\"fuck\", \"shit\", \"crap\"]\n",
    "\n",
    "toxic_token_id = []\n",
    "for tok in seed_token_toxic:\n",
    "    ids = tokenizer(tok, add_special_tokens=False)[\"input_ids\"]\n",
    "    if len(ids) == 1:\n",
    "        toxic_token_id.append(ids[0])\n",
    "    else:\n",
    "        print(f\"Skipping '{tok}' → {ids} (not a single token)\")\n",
    "print(toxic_token_id)"
   ]
  },
  {
   "cell_type": "code",
   "execution_count": 35,
   "id": "6659fd94",
   "metadata": {},
   "outputs": [],
   "source": [
    "toxic_embed = token_embeds[toxic_token_id].mean(dim=0)"
   ]
  },
  {
   "cell_type": "code",
   "execution_count": 21,
   "id": "48788f1e",
   "metadata": {},
   "outputs": [
    {
     "name": "stdout",
     "output_type": "stream",
     "text": [
      "Skipping 'cunt' → [66, 3935] (not a single token)\n",
      "Skipping 'asshole' → [395, 31520] (not a single token)\n",
      "Skipping 'bullshit' → [43104, 41153] (not a single token)\n"
     ]
    }
   ],
   "source": [
    "# seed_token_toxic = [\"fuck\", \"cunt\", \"shit\", \"crap\", \"asshole\", \"bullshit\"]\n",
    "\n",
    "# toxic_token_id = []\n",
    "# for tok in seed_token_toxic:\n",
    "#     ids = tokenizer(tok, add_special_tokens=False)[\"input_ids\"]\n",
    "#     if len(ids) == 1:\n",
    "#         toxic_token_id.append(ids[0])\n",
    "#     else:\n",
    "#         print(f\"Skipping '{tok}' → {ids} (not a single token)\")\n"
   ]
  },
  {
   "cell_type": "code",
   "execution_count": 27,
   "id": "d66cf1ec",
   "metadata": {},
   "outputs": [],
   "source": [
    "def unembed_to_text(vector, model, tokenizer, k=10):\n",
    "    # LayerNorm before output projection \n",
    "    norm = model.model.norm\n",
    "    lm_head = model.lm_head.weight \n",
    "\n",
    "    # Normalize the input vector using final layer norm\n",
    "    vector = norm(vector)\n",
    "\n",
    "    # Compute similarity scores with vocab embeddings\n",
    "    dots = einsum(\"vocab d, d -> vocab\", lm_head, vector)\n",
    "    top_k = dots.topk(k).indices\n",
    "\n",
    "    return tokenizer.batch_decode(top_k, skip_special_tokens=True)"
   ]
  },
  {
   "cell_type": "code",
   "execution_count": 36,
   "id": "c3f336d0",
   "metadata": {
    "scrolled": false
   },
   "outputs": [
    {
     "ename": "RuntimeError",
     "evalue": "einsum(): subscript d has size 4096 for operand 1 which does not broadcast with previously seen size 14336",
     "output_type": "error",
     "traceback": [
      "\u001b[0;31m---------------------------------------------------------------------------\u001b[0m",
      "\u001b[0;31mRuntimeError\u001b[0m                              Traceback (most recent call last)",
      "Cell \u001b[0;32mIn[36], line 5\u001b[0m\n\u001b[1;32m      2\u001b[0m target_vec \u001b[39m=\u001b[39m toxic_embed\n\u001b[1;32m      4\u001b[0m \u001b[39m# Compute raw dot products between value vectors and the toxic direction\u001b[39;00m\n\u001b[0;32m----> 5\u001b[0m dot_prods \u001b[39m=\u001b[39m torch\u001b[39m.\u001b[39;49meinsum(\u001b[39m\"\u001b[39;49m\u001b[39mnd,d->n\u001b[39;49m\u001b[39m\"\u001b[39;49m, value_vectors, target_vec)\n\u001b[1;32m      7\u001b[0m \u001b[39m# Top-k most aligned MLP value vectors\u001b[39;00m\n\u001b[1;32m      8\u001b[0m top_value_vecs \u001b[39m=\u001b[39m dot_prods\u001b[39m.\u001b[39mtopk(k)\u001b[39m.\u001b[39mindices\n",
      "File \u001b[0;32m/data/kebl6672/miniconda3/envs/toxic/lib/python3.12/site-packages/torch/functional.py:380\u001b[0m, in \u001b[0;36meinsum\u001b[0;34m(*args)\u001b[0m\n\u001b[1;32m    375\u001b[0m     \u001b[39mreturn\u001b[39;00m einsum(equation, \u001b[39m*\u001b[39m_operands)\n\u001b[1;32m    377\u001b[0m \u001b[39mif\u001b[39;00m \u001b[39mlen\u001b[39m(operands) \u001b[39m<\u001b[39m\u001b[39m=\u001b[39m \u001b[39m2\u001b[39m \u001b[39mor\u001b[39;00m \u001b[39mnot\u001b[39;00m opt_einsum\u001b[39m.\u001b[39menabled:\n\u001b[1;32m    378\u001b[0m     \u001b[39m# the path for contracting 0 or 1 time(s) is already optimized\u001b[39;00m\n\u001b[1;32m    379\u001b[0m     \u001b[39m# or the user has disabled using opt_einsum\u001b[39;00m\n\u001b[0;32m--> 380\u001b[0m     \u001b[39mreturn\u001b[39;00m _VF\u001b[39m.\u001b[39;49meinsum(equation, operands)  \u001b[39m# type: ignore[attr-defined]\u001b[39;00m\n\u001b[1;32m    382\u001b[0m path \u001b[39m=\u001b[39m \u001b[39mNone\u001b[39;00m\n\u001b[1;32m    383\u001b[0m \u001b[39mif\u001b[39;00m opt_einsum\u001b[39m.\u001b[39mis_available():\n",
      "\u001b[0;31mRuntimeError\u001b[0m: einsum(): subscript d has size 4096 for operand 1 which does not broadcast with previously seen size 14336"
     ]
    }
   ],
   "source": [
    "k = 20\n",
    "target_vec = toxic_embed\n",
    "\n",
    "# Compute raw dot products between value vectors and the toxic direction\n",
    "dot_prods = torch.einsum(\"nd,d->n\", value_vectors, target_vec)\n",
    "\n",
    "# Top-k most aligned MLP value vectors\n",
    "top_value_vecs = dot_prods.topk(k).indices\n",
    "\n",
    "# Print top vectors with layer and index info\n",
    "for vec_idx in top_value_vecs:\n",
    "    layer = vec_idx.item() // model.config.intermediate_size\n",
    "    idx_in_layer = vec_idx.item() % model.config.intermediate_size\n",
    "    print(f\"Value vec: Layer {layer}, index {idx_in_layer}\")\n",
    "    print(unembed_to_text(value_vectors[vec_idx], model, tokenizer))\n"
   ]
  }
 ],
 "metadata": {
  "kernelspec": {
   "display_name": "Python 3 (ipykernel)",
   "language": "python",
   "name": "python3"
  },
  "language_info": {
   "codemirror_mode": {
    "name": "ipython",
    "version": 3
   },
   "file_extension": ".py",
   "mimetype": "text/x-python",
   "name": "python",
   "nbconvert_exporter": "python",
   "pygments_lexer": "ipython3",
   "version": "3.12.7"
  }
 },
 "nbformat": 4,
 "nbformat_minor": 5
}
