{
 "cells": [
  {
   "cell_type": "code",
   "execution_count": 1,
   "metadata": {},
   "outputs": [],
   "source": [
    "import pandas as pd\n",
    "import numpy as np\n",
    "import scipy.optimize as opt\n",
    "from scipy.special import erf, erfinv"
   ]
  },
  {
   "cell_type": "code",
   "execution_count": 24,
   "metadata": {},
   "outputs": [],
   "source": [
    "# from scipy.optimize import root_scalar\n",
    "# from scipy.special import erf\n",
    "\n",
    "# def gelu(x):\n",
    "#     return 0.5 * x * (1 + erf(x / np.sqrt(2)))\n",
    "\n",
    "# def inverse_gelu_numerical(y):\n",
    "#     def func(x):\n",
    "#         return gelu(x) - y\n",
    "#     try:\n",
    "#         sol = root_scalar(func, bracket=[-10, 10], method='brentq')\n",
    "#         return sol.root if sol.converged else np.nan\n",
    "#     except:\n",
    "#         return np.nan\n"
   ]
  },
  {
   "cell_type": "code",
   "execution_count": 2,
   "metadata": {},
   "outputs": [],
   "source": [
    "df = pd.read_csv('/data/kebl6672/dpo-toxic-general/toxicity/gpt2_all_neuron_metrics.csv')"
   ]
  },
  {
   "cell_type": "code",
   "execution_count": 3,
   "metadata": {},
   "outputs": [
    {
     "data": {
      "text/html": [
       "<div>\n",
       "<style scoped>\n",
       "    .dataframe tbody tr th:only-of-type {\n",
       "        vertical-align: middle;\n",
       "    }\n",
       "\n",
       "    .dataframe tbody tr th {\n",
       "        vertical-align: top;\n",
       "    }\n",
       "\n",
       "    .dataframe thead th {\n",
       "        text-align: right;\n",
       "    }\n",
       "</style>\n",
       "<table border=\"1\" class=\"dataframe\">\n",
       "  <thead>\n",
       "    <tr style=\"text-align: right;\">\n",
       "      <th></th>\n",
       "      <th>layer_idx</th>\n",
       "      <th>neuron_idx</th>\n",
       "      <th>pt_projection_value</th>\n",
       "      <th>dpo_projection_value</th>\n",
       "      <th>pt_activation_value</th>\n",
       "      <th>dpo_activation_value</th>\n",
       "      <th>pt_cossim</th>\n",
       "      <th>dpo_cossim</th>\n",
       "      <th>gpt2_value_vector_projs</th>\n",
       "      <th>dpo_value_vector_projs</th>\n",
       "      <th>projection_diff</th>\n",
       "      <th>activation_diff</th>\n",
       "    </tr>\n",
       "  </thead>\n",
       "  <tbody>\n",
       "    <tr>\n",
       "      <th>0</th>\n",
       "      <td>0</td>\n",
       "      <td>0</td>\n",
       "      <td>-0.004434</td>\n",
       "      <td>-0.004821</td>\n",
       "      <td>-0.086628</td>\n",
       "      <td>-0.094152</td>\n",
       "      <td>0.020808</td>\n",
       "      <td>0.020818</td>\n",
       "      <td>0.051181</td>\n",
       "      <td>0.051206</td>\n",
       "      <td>3.874512e-04</td>\n",
       "      <td>0.007524</td>\n",
       "    </tr>\n",
       "    <tr>\n",
       "      <th>1</th>\n",
       "      <td>0</td>\n",
       "      <td>1</td>\n",
       "      <td>0.000381</td>\n",
       "      <td>0.000381</td>\n",
       "      <td>-0.010077</td>\n",
       "      <td>-0.010096</td>\n",
       "      <td>-0.015356</td>\n",
       "      <td>-0.015325</td>\n",
       "      <td>-0.037849</td>\n",
       "      <td>-0.037771</td>\n",
       "      <td>7.888138e-08</td>\n",
       "      <td>0.000019</td>\n",
       "    </tr>\n",
       "    <tr>\n",
       "      <th>2</th>\n",
       "      <td>0</td>\n",
       "      <td>2</td>\n",
       "      <td>0.008536</td>\n",
       "      <td>0.008656</td>\n",
       "      <td>-0.065236</td>\n",
       "      <td>-0.066241</td>\n",
       "      <td>-0.044885</td>\n",
       "      <td>-0.044824</td>\n",
       "      <td>-0.130852</td>\n",
       "      <td>-0.130673</td>\n",
       "      <td>-1.195893e-04</td>\n",
       "      <td>0.001005</td>\n",
       "    </tr>\n",
       "    <tr>\n",
       "      <th>3</th>\n",
       "      <td>0</td>\n",
       "      <td>3</td>\n",
       "      <td>0.004260</td>\n",
       "      <td>0.004129</td>\n",
       "      <td>-0.081713</td>\n",
       "      <td>-0.079245</td>\n",
       "      <td>-0.015817</td>\n",
       "      <td>-0.015809</td>\n",
       "      <td>-0.052139</td>\n",
       "      <td>-0.052108</td>\n",
       "      <td>1.311275e-04</td>\n",
       "      <td>-0.002468</td>\n",
       "    </tr>\n",
       "    <tr>\n",
       "      <th>4</th>\n",
       "      <td>0</td>\n",
       "      <td>4</td>\n",
       "      <td>0.000003</td>\n",
       "      <td>-0.000003</td>\n",
       "      <td>-0.073461</td>\n",
       "      <td>-0.079985</td>\n",
       "      <td>-0.000018</td>\n",
       "      <td>0.000015</td>\n",
       "      <td>-0.000046</td>\n",
       "      <td>0.000038</td>\n",
       "      <td>6.465025e-06</td>\n",
       "      <td>0.006524</td>\n",
       "    </tr>\n",
       "  </tbody>\n",
       "</table>\n",
       "</div>"
      ],
      "text/plain": [
       "   layer_idx  neuron_idx  pt_projection_value  dpo_projection_value  \\\n",
       "0          0           0            -0.004434             -0.004821   \n",
       "1          0           1             0.000381              0.000381   \n",
       "2          0           2             0.008536              0.008656   \n",
       "3          0           3             0.004260              0.004129   \n",
       "4          0           4             0.000003             -0.000003   \n",
       "\n",
       "   pt_activation_value  dpo_activation_value  pt_cossim  dpo_cossim  \\\n",
       "0            -0.086628             -0.094152   0.020808    0.020818   \n",
       "1            -0.010077             -0.010096  -0.015356   -0.015325   \n",
       "2            -0.065236             -0.066241  -0.044885   -0.044824   \n",
       "3            -0.081713             -0.079245  -0.015817   -0.015809   \n",
       "4            -0.073461             -0.079985  -0.000018    0.000015   \n",
       "\n",
       "   gpt2_value_vector_projs  dpo_value_vector_projs  projection_diff  \\\n",
       "0                 0.051181                0.051206     3.874512e-04   \n",
       "1                -0.037849               -0.037771     7.888138e-08   \n",
       "2                -0.130852               -0.130673    -1.195893e-04   \n",
       "3                -0.052139               -0.052108     1.311275e-04   \n",
       "4                -0.000046                0.000038     6.465025e-06   \n",
       "\n",
       "   activation_diff  \n",
       "0         0.007524  \n",
       "1         0.000019  \n",
       "2         0.001005  \n",
       "3        -0.002468  \n",
       "4         0.006524  "
      ]
     },
     "execution_count": 3,
     "metadata": {},
     "output_type": "execute_result"
    }
   ],
   "source": [
    "df.head()"
   ]
  },
  {
   "cell_type": "code",
   "execution_count": 27,
   "metadata": {},
   "outputs": [],
   "source": [
    "# df['dpo_pregelu_activation'] = df['dpo_activation_value'].apply(inverse_gelu_numerical)"
   ]
  },
  {
   "cell_type": "markdown",
   "metadata": {},
   "source": [
    "##### Extract all neuron indexes from each neuron group"
   ]
  },
  {
   "cell_type": "code",
   "execution_count": 13,
   "metadata": {},
   "outputs": [
    {
     "name": "stdout",
     "output_type": "stream",
     "text": [
      "55663\n"
     ]
    }
   ],
   "source": [
    "tuples_list = [\n",
    "    (int(row['layer_idx']), int(row['neuron_idx']), row['dpo_activation_value'])\n",
    "    for _, row in df.iterrows()\n",
    "    if (row['pt_cossim'] < 0 and row['pt_activation_value'] < 0 and row['projection_diff'] > 0) or # AN\n",
    "    (row['pt_cossim'] > 0 and row['pt_activation_value'] > 0 and row['projection_diff'] > 0) or # TP\n",
    "    (row['pt_cossim'] > 0 and row['pt_activation_value'] < 0 and row['projection_diff'] > 0) # TN\n",
    "]\n",
    "\n",
    "print(len(tuples_list))"
   ]
  },
  {
   "cell_type": "code",
   "execution_count": 15,
   "metadata": {},
   "outputs": [
    {
     "name": "stdout",
     "output_type": "stream",
     "text": [
      "40801\n"
     ]
    }
   ],
   "source": [
    "tuples_list = [\n",
    "    (int(row['layer_idx']), int(row['neuron_idx']), row['dpo_activation_value'])\n",
    "    for _, row in df.iterrows()\n",
    "    if (row['projection_diff'] < 0) # all uparrow ones\n",
    "]\n",
    "\n",
    "print(len(tuples_list))"
   ]
  },
  {
   "cell_type": "code",
   "execution_count": 16,
   "metadata": {},
   "outputs": [],
   "source": [
    "df_subset = pd.DataFrame(tuples_list, columns=[\"layer_idx\", \"neuron_idx\", \"assigned_value\"])\n",
    "df_subset.to_csv(\"gpt2_all_uparrow_neuron_configs.csv\", index=False)"
   ]
  },
  {
   "cell_type": "code",
   "execution_count": 40,
   "metadata": {},
   "outputs": [
    {
     "name": "stdout",
     "output_type": "stream",
     "text": [
      "57501\n"
     ]
    }
   ],
   "source": [
    "tuples_list = [\n",
    "    (int(row['layer_idx']), int(row['neuron_idx']), row['dpo_activation_value'])\n",
    "    for _, row in df.iterrows()\n",
    "    if (row['pt_cossim'] < 0 and row['pt_activation_value'] > 0 and row['projection_diff'] > 0) or # AP\n",
    "       (row['pt_cossim'] < 0 and row['pt_activation_value'] < 0 and row['projection_diff'] > 0) or # AN\n",
    "       (row['pt_cossim'] > 0 and row['pt_activation_value'] < 0 and row['projection_diff'] > 0) or # TN\n",
    "       (row['pt_cossim'] > 0 and row['pt_activation_value'] > 0 and row['projection_diff'] > 0) # TP\n",
    "]\n",
    "\n",
    "print(len(tuples_list))\n"
   ]
  },
  {
   "cell_type": "code",
   "execution_count": 41,
   "metadata": {},
   "outputs": [],
   "source": [
    "df_subset = pd.DataFrame(tuples_list, columns=[\"layer_idx\", \"neuron_idx\", \"assigned_value\"])\n",
    "df_subset.to_csv(\"gpt2_all_four_neuron_configs.csv\", index=False)"
   ]
  },
  {
   "cell_type": "markdown",
   "metadata": {},
   "source": [
    "##### Activation hacking on the existing groups"
   ]
  },
  {
   "cell_type": "code",
   "execution_count": 18,
   "metadata": {},
   "outputs": [
    {
     "name": "stdout",
     "output_type": "stream",
     "text": [
      "57501\n"
     ]
    }
   ],
   "source": [
    "# Halve all four groups \n",
    "tuples_list = [\n",
    "    (int(row['layer_idx']), int(row['neuron_idx']), row['pt_activation_value']/2)\n",
    "    for _, row in df.iterrows()\n",
    "    if (row['pt_cossim'] < 0 and row['pt_activation_value'] > 0 and row['projection_diff'] > 0) or # AP\n",
    "       (row['pt_cossim'] < 0 and row['pt_activation_value'] < 0 and row['projection_diff'] > 0) or # AN\n",
    "       (row['pt_cossim'] > 0 and row['pt_activation_value'] < 0 and row['projection_diff'] > 0) or # TN\n",
    "       (row['pt_cossim'] > 0 and row['pt_activation_value'] > 0 and row['projection_diff'] > 0) # TP\n",
    "]\n",
    "\n",
    "print(len(tuples_list))\n"
   ]
  },
  {
   "cell_type": "code",
   "execution_count": 43,
   "metadata": {},
   "outputs": [
    {
     "name": "stdout",
     "output_type": "stream",
     "text": [
      "3967\n"
     ]
    }
   ],
   "source": [
    "# halve TP \n",
    "tuples_list = [\n",
    "    (int(row['layer_idx']), int(row['neuron_idx']), row['pt_activation_value']/2)\n",
    "    for _, row in df.iterrows()\n",
    "    if (row['pt_cossim'] > 0 and row['pt_activation_value'] > 0 and row['projection_diff'] > 0) # TP  \n",
    "]\n",
    "print(len(tuples_list))"
   ]
  },
  {
   "cell_type": "code",
   "execution_count": 45,
   "metadata": {},
   "outputs": [
    {
     "name": "stdout",
     "output_type": "stream",
     "text": [
      "29252\n"
     ]
    }
   ],
   "source": [
    "# halve AN\n",
    "tuples_list = [\n",
    "    (int(row['layer_idx']), int(row['neuron_idx']), row['pt_activation_value']/2)\n",
    "    for _, row in df.iterrows()\n",
    "    if (row['pt_cossim'] < 0 and row['pt_activation_value'] < 0 and row['projection_diff'] > 0) # AN\n",
    "]\n",
    "print(len(tuples_list))"
   ]
  },
  {
   "cell_type": "code",
   "execution_count": 44,
   "metadata": {},
   "outputs": [],
   "source": [
    "df_subset = pd.DataFrame(tuples_list, columns=[\"layer_idx\", \"neuron_idx\", \"assigned_value\"])\n",
    "df_subset.to_csv(\"gpt2_halve_two_neuron_configs.csv\", index=False)"
   ]
  },
  {
   "cell_type": "code",
   "execution_count": 3,
   "metadata": {},
   "outputs": [
    {
     "name": "stdout",
     "output_type": "stream",
     "text": [
      "33219\n"
     ]
    }
   ],
   "source": [
    "# halve TP + AN\n",
    "tuples_list = [\n",
    "    (int(row['layer_idx']), int(row['neuron_idx']), row['pt_activation_value']/2)\n",
    "    for _, row in df.iterrows()\n",
    "    if (row['pt_cossim'] < 0 and row['pt_activation_value'] < 0 and row['projection_diff'] > 0) or # AN\n",
    "       (row['pt_cossim'] > 0 and row['pt_activation_value'] > 0 and row['projection_diff'] > 0) # TP  \n",
    "]\n",
    "print(len(tuples_list))"
   ]
  },
  {
   "cell_type": "code",
   "execution_count": 4,
   "metadata": {},
   "outputs": [
    {
     "name": "stdout",
     "output_type": "stream",
     "text": [
      "22444\n"
     ]
    }
   ],
   "source": [
    "# 1.5* TN\n",
    "tuples_list = [\n",
    "    (int(row['layer_idx']), int(row['neuron_idx']), row['pt_activation_value']*1.5)\n",
    "    for _, row in df.iterrows()\n",
    "    if (row['pt_cossim'] > 0 and row['pt_activation_value'] < 0 and row['projection_diff'] > 0) # TN  \n",
    "]\n",
    "print(len(tuples_list))"
   ]
  },
  {
   "cell_type": "code",
   "execution_count": 6,
   "metadata": {},
   "outputs": [
    {
     "name": "stdout",
     "output_type": "stream",
     "text": [
      "1838\n"
     ]
    }
   ],
   "source": [
    "# 1.5* AP\n",
    "tuples_list = [\n",
    "    (int(row['layer_idx']), int(row['neuron_idx']), row['pt_activation_value']*1.5)\n",
    "    for _, row in df.iterrows()\n",
    "    if (row['pt_cossim'] < 0 and row['pt_activation_value'] > 0 and row['projection_diff'] > 0) # AP\n",
    "]\n",
    "print(len(tuples_list))"
   ]
  },
  {
   "cell_type": "code",
   "execution_count": 8,
   "metadata": {},
   "outputs": [
    {
     "name": "stdout",
     "output_type": "stream",
     "text": [
      "24282\n"
     ]
    }
   ],
   "source": [
    "# 1.5* (AP + TN)\n",
    "tuples_list = [\n",
    "    (int(row['layer_idx']), int(row['neuron_idx']), row['pt_activation_value']*1.5)\n",
    "    for _, row in df.iterrows()\n",
    "    if (row['pt_cossim'] < 0 and row['pt_activation_value'] > 0 and row['projection_diff'] > 0) or # AP\n",
    "       (row['pt_cossim'] > 0 and row['pt_activation_value'] < 0 and row['projection_diff'] > 0) # TN  \n",
    "]\n",
    "print(len(tuples_list))"
   ]
  },
  {
   "cell_type": "code",
   "execution_count": 10,
   "metadata": {},
   "outputs": [
    {
     "name": "stdout",
     "output_type": "stream",
     "text": [
      "57501\n"
     ]
    }
   ],
   "source": [
    "# halve for TP and AN, 1.5* for AP and TN\n",
    "tuples_list = [\n",
    "    (int(row['layer_idx']), int(row['neuron_idx']), row['pt_activation_value'] / 2)  # Halve activation\n",
    "    if (row['pt_cossim'] > 0 and row['pt_activation_value'] > 0 and row['projection_diff'] > 0) or  # TP\n",
    "       (row['pt_cossim'] < 0 and row['pt_activation_value'] < 0 and row['projection_diff'] > 0)    # AN\n",
    "    else (int(row['layer_idx']), int(row['neuron_idx']), row['pt_activation_value'] * 1.5)  # 1.5* activation\n",
    "    for _, row in df.iterrows()\n",
    "    if (row['pt_cossim'] < 0 and row['pt_activation_value'] > 0 and row['projection_diff'] > 0) or  # AP\n",
    "       (row['pt_cossim'] > 0 and row['pt_activation_value'] < 0 and row['projection_diff'] > 0) or  # TN\n",
    "       (row['pt_cossim'] > 0 and row['pt_activation_value'] > 0 and row['projection_diff'] > 0) or  # TP\n",
    "       (row['pt_cossim'] < 0 and row['pt_activation_value'] < 0 and row['projection_diff'] > 0)    # AN\n",
    "]\n",
    "\n",
    "print(len(tuples_list))\n"
   ]
  },
  {
   "cell_type": "code",
   "execution_count": 11,
   "metadata": {},
   "outputs": [],
   "source": [
    "df_subset = pd.DataFrame(tuples_list, columns=[\"layer_idx\", \"neuron_idx\", \"assigned_value\"])\n",
    "df_subset.to_csv(\"gpt2_halve_1.5_neuron_configs.csv\", index=False)"
   ]
  },
  {
   "cell_type": "code",
   "execution_count": 16,
   "metadata": {},
   "outputs": [
    {
     "name": "stdout",
     "output_type": "stream",
     "text": [
      "25794\n"
     ]
    }
   ],
   "source": [
    "# all neurons increase projection\n",
    "tuples_list = [\n",
    "    (int(row['layer_idx']), int(row['neuron_idx']), row['dpo_activation'])\n",
    "    for _, row in df.iterrows()\n",
    "    # if (row['pt_cossim'] < 0 and row['pt_activation'] > 0 and row['activation_diff'] > 0) or # AP-\n",
    "    #    (row['pt_cossim'] < 0 and row['pt_activation'] < 0 and row['activation_diff'] < 0)  # AN+\n",
    "    if (row['pt_cossim'] > 0 and row['pt_activation'] < 0 and row['activation_diff'] < 0) or # TN-\n",
    "       (row['pt_cossim'] > 0 and row['pt_activation'] > 0 and row['activation_diff'] < 0) # TP+    \n",
    "]\n",
    "\n",
    "print(len(tuples_list))"
   ]
  },
  {
   "cell_type": "markdown",
   "metadata": {},
   "source": [
    "##### Tuning-free group identification"
   ]
  },
  {
   "cell_type": "code",
   "execution_count": 25,
   "metadata": {},
   "outputs": [
    {
     "name": "stdout",
     "output_type": "stream",
     "text": [
      "5770\n"
     ]
    }
   ],
   "source": [
    "# halve TP \n",
    "tuples_list = [\n",
    "    (int(row['layer_idx']), int(row['neuron_idx']), row['pt_activation_value']/2)\n",
    "    for _, row in df.iterrows()\n",
    "    if (row['pt_cossim'] > 0 and row['pt_activation_value'] > 0) # TP  %  and row['projection_diff'] > 0\n",
    "]\n",
    "print(len(tuples_list))"
   ]
  },
  {
   "cell_type": "code",
   "execution_count": 31,
   "metadata": {},
   "outputs": [
    {
     "name": "stdout",
     "output_type": "stream",
     "text": [
      "44040\n"
     ]
    }
   ],
   "source": [
    "# halve AN\n",
    "tuples_list = [\n",
    "    (int(row['layer_idx']), int(row['neuron_idx']), row['pt_activation_value']/2)\n",
    "    for _, row in df.iterrows()\n",
    "    if (row['pt_cossim'] < 0 and row['pt_activation_value'] < 0) # AN\n",
    "]\n",
    "print(len(tuples_list))"
   ]
  },
  {
   "cell_type": "code",
   "execution_count": 27,
   "metadata": {},
   "outputs": [
    {
     "name": "stdout",
     "output_type": "stream",
     "text": [
      "49810\n"
     ]
    }
   ],
   "source": [
    "# halve TP + AN\n",
    "tuples_list = [\n",
    "    (int(row['layer_idx']), int(row['neuron_idx']), row['pt_activation_value']/2)\n",
    "    for _, row in df.iterrows()\n",
    "    if (row['pt_cossim'] < 0 and row['pt_activation_value'] < 0) or # AN\n",
    "       (row['pt_cossim'] > 0 and row['pt_activation_value'] > 0) # TP  \n",
    "]\n",
    "print(len(tuples_list))"
   ]
  },
  {
   "cell_type": "code",
   "execution_count": 12,
   "metadata": {},
   "outputs": [
    {
     "name": "stdout",
     "output_type": "stream",
     "text": [
      "6728\n"
     ]
    }
   ],
   "source": [
    "# 1.5* AP \n",
    "tuples_list = [\n",
    "    (int(row['layer_idx']), int(row['neuron_idx']), row['pt_activation_value']*1.5)\n",
    "    for _, row in df.iterrows()\n",
    "    if (row['pt_cossim'] < 0 and row['pt_activation_value'] > 0) # AP\n",
    "]\n",
    "print(len(tuples_list))"
   ]
  },
  {
   "cell_type": "code",
   "execution_count": 17,
   "metadata": {},
   "outputs": [],
   "source": [
    "df_subset = pd.DataFrame(tuples_list, columns=[\"layer_idx\", \"neuron_idx\", \"assigned_value\"])\n",
    "df_subset.to_csv(\"gpt2_1.5_two_free_neuron_configs.csv\", index=False)"
   ]
  },
  {
   "cell_type": "code",
   "execution_count": 14,
   "metadata": {},
   "outputs": [
    {
     "name": "stdout",
     "output_type": "stream",
     "text": [
      "41764\n"
     ]
    }
   ],
   "source": [
    "# 1.5* TN\n",
    "tuples_list = [\n",
    "    (int(row['layer_idx']), int(row['neuron_idx']), row['pt_activation_value']*1.5)\n",
    "    for _, row in df.iterrows()\n",
    "    if (row['pt_cossim'] > 0 and row['pt_activation_value'] < 0) # TN  \n",
    "]\n",
    "print(len(tuples_list))"
   ]
  },
  {
   "cell_type": "code",
   "execution_count": 16,
   "metadata": {},
   "outputs": [
    {
     "name": "stdout",
     "output_type": "stream",
     "text": [
      "48492\n"
     ]
    }
   ],
   "source": [
    "# 1.5* (AP + TN)\n",
    "tuples_list = [\n",
    "    (int(row['layer_idx']), int(row['neuron_idx']), row['pt_activation_value']*1.5)\n",
    "    for _, row in df.iterrows()\n",
    "    if (row['pt_cossim'] < 0 and row['pt_activation_value'] > 0) or # AP\n",
    "       (row['pt_cossim'] > 0 and row['pt_activation_value'] < 0) # TN  \n",
    "]\n",
    "print(len(tuples_list))"
   ]
  },
  {
   "cell_type": "code",
   "execution_count": 18,
   "metadata": {},
   "outputs": [
    {
     "name": "stdout",
     "output_type": "stream",
     "text": [
      "98302\n"
     ]
    }
   ],
   "source": [
    "# halve for TP and AN, 1.5* for AP and TN\n",
    "tuples_list = [\n",
    "    (int(row['layer_idx']), int(row['neuron_idx']), row['pt_activation_value'] / 2)  # Halve activation\n",
    "    if (row['pt_cossim'] > 0 and row['pt_activation_value'] > 0) or  # TP\n",
    "       (row['pt_cossim'] < 0 and row['pt_activation_value'] < 0)    # AN\n",
    "    else (int(row['layer_idx']), int(row['neuron_idx']), row['pt_activation_value'] * 1.5)  # 1.5*activation\n",
    "    for _, row in df.iterrows()\n",
    "    if (row['pt_cossim'] < 0 and row['pt_activation_value'] > 0) or  # AP\n",
    "       (row['pt_cossim'] > 0 and row['pt_activation_value'] < 0) or  # TN\n",
    "       (row['pt_cossim'] > 0 and row['pt_activation_value'] > 0) or  # TP\n",
    "       (row['pt_cossim'] < 0 and row['pt_activation_value'] < 0)    # AN\n",
    "]\n",
    "\n",
    "print(len(tuples_list))\n"
   ]
  },
  {
   "cell_type": "code",
   "execution_count": 19,
   "metadata": {},
   "outputs": [],
   "source": [
    "df_subset = pd.DataFrame(tuples_list, columns=[\"layer_idx\", \"neuron_idx\", \"assigned_value\"])\n",
    "df_subset.to_csv(\"gpt2_halve_1.5_free_neuron_configs.csv\", index=False)"
   ]
  },
  {
   "cell_type": "markdown",
   "metadata": {},
   "source": [
    "#### Get the activations for top 128 toxic neurons / 36 positively activated toxic neurons"
   ]
  },
  {
   "cell_type": "code",
   "execution_count": 21,
   "metadata": {},
   "outputs": [
    {
     "name": "stdout",
     "output_type": "stream",
     "text": [
      "Total number of rows with highest cosine similarity and positive GPT-2 activation: 128\n",
      "List of tuples (layer_index, neuron_index, dpo_pregelu_activation):\n",
      "[(19, 770, -0.016977283051654416), (12, 771, 0.04969537966124989), (18, 2669, 0.0038321316381261807), (13, 668, -0.07058810171775307), (16, 255, -0.0011058073715099835), (12, 882, -0.113394102185773), (19, 1438, 0.15294501710233885), (9, 545, -0.10686375994200416), (8, 2854, -0.05395217817731824), (3, 3680, -0.015262110350101077), (14, 1958, -0.1336680829902643), (7, 1735, -0.11794289513106787), (13, 2258, -0.10931066076252646), (11, 1550, -0.11230842916543096), (3, 704, -0.10765209018216775), (10, 3477, -0.09382688046268217), (13, 1023, -0.09818235291497254), (13, 253, -0.12699634360404508), (10, 2936, -0.15094208805809126), (0, 2352, -0.024648923979238926), (7, 1916, -0.13753848921096778), (3, 3742, -0.038883108764911044), (11, 2844, -0.19994687566480335), (11, 4021, -0.06456283217355124), (11, 175, -0.03322151300842863), (19, 3341, -0.0400893763734337), (3, 1656, -0.11885428226975356), (5, 1744, -0.19015554044825048), (7, 3358, -0.25328014688819744), (12, 1826, -0.1986207199683121), (16, 603, -0.0830782511479893), (11, 3414, -0.15344125247823556), (11, 2617, -0.08237272546877626), (9, 340, -0.1548007410703725), (8, 3200, 0.0812912976275755), (16, 1741, -0.1079464007749822), (19, 2312, -0.07821941281372657), (13, 1544, 0.0027353818722930016), (20, 3210, 0.04564807678187968), (12, 3413, -0.09751140549980601), (12, 3349, -0.15577198104664944), (0, 3752, -0.10184885016828311), (11, 3437, -0.15963582154818645), (15, 1696, -0.17730170989714597), (2, 3998, -0.24047481032556384), (23, 1672, -0.15955439163643606), (12, 877, 0.03388040286304971), (7, 3701, -0.12290283256538138), (6, 2994, -0.1044293696556899), (6, 3972, 0.2822371293946999), (13, 4065, -0.08091273764975808), (0, 3393, 0.124103322553862), (9, 2758, -0.12183615033556608), (15, 4051, -0.08477020348245651), (7, 2018, -0.22263704076626406), (7, 2494, -0.1645111102652219), (3, 2765, -0.06285597406207963), (15, 511, -0.226180246452182), (12, 2756, -0.006951245786421365), (1, 2057, -0.10725545616909991), (20, 3123, -0.12575113108447675), (13, 3620, -0.12264626440971597), (17, 3064, -0.1558877855112038), (6, 3821, -0.2540815164774085), (13, 3243, 0.03825933790651623), (16, 16, -0.1125896541653175), (6, 113, -0.1098692264091089), (7, 166, -0.12290435551495897), (20, 551, -0.20007000542973433), (4, 2335, -0.1331876316444766), (9, 1028, -0.2008440907142399), (10, 628, 0.009943307548281917), (8, 3310, -0.056125698111704744), (9, 2540, -0.1782366394555568), (0, 2723, -0.23918429428501387), (5, 4054, -0.0948698437115687), (8, 3066, -0.14894567365123704), (15, 3116, -0.026283345742626075), (14, 414, -0.09114901335564722), (9, 2077, -0.16904136973806932), (2, 2935, -0.09877919958563733), (4, 144, -0.11374232681370997), (19, 505, -0.09374061655121844), (11, 2205, -0.1616719039682321), (7, 514, -0.16311148259938804), (13, 1916, -0.1674669284266767), (1, 1342, -0.054551162094832996), (4, 3494, -0.17171973116201544), (11, 2485, -0.22036026194216093), (4, 3500, -0.20149780870816383), (14, 883, -0.1315346188792163), (9, 3567, -0.18345859954251745), (9, 371, -0.1913197911834468), (8, 273, -0.14238568295286738), (10, 1635, -0.18171707857303593), (0, 2037, -0.10658149502498547), (10, 3674, -0.2069937097043622), (5, 23, -0.2637425008092864), (12, 619, -0.1427147276995484), (6, 2946, -0.14391196613283463), (6, 3121, -0.10822576187830112), (7, 3688, 0.026968600840485135), (2, 610, -0.24739099205871995), (7, 2348, -0.1216441359873274), (5, 26, -0.10462459420319789), (23, 1390, -0.17794703819791452), (2, 2656, -0.027266332251971035), (6, 2521, -0.14342750377594046), (9, 3523, -0.1271699794986858), (8, 2790, -0.18135798329444627), (12, 3611, -0.17457928362989955), (0, 19, -0.11566866532691565), (17, 3162, -0.014612488944539157), (5, 1983, -0.14865625793717252), (12, 1859, -0.220665577902509), (6, 1270, -0.12588587323344297), (12, 1587, -0.12818076948586954), (11, 2776, -0.07598336149299113), (13, 692, -0.12517973835706203), (11, 339, -0.11072776566293495), (12, 45, -0.11133203249411133), (9, 2278, -0.09182271088681287), (9, 138, -0.2050169170286507), (10, 2899, -0.10511055090029087), (12, 3595, -0.03152335435438641), (14, 1856, -0.17711465582147717), (7, 3125, -0.16512323229010384), (1, 572, 0.0006069859673654075)]\n"
     ]
    }
   ],
   "source": [
    "# Filter the DataFrame for the top 128 rows by cosine_similarity\n",
    "top_128_rows = df.nlargest(128, 'pt_cossim')\n",
    "\n",
    "# Get the total number of such rows\n",
    "total_filtered_rows = top_128_rows.shape[0]\n",
    "\n",
    "# Print the result\n",
    "print(\"Total number of rows with highest cosine similarity and positive GPT-2 activation:\", total_filtered_rows)\n",
    "\n",
    "# Extract the list of tuples\n",
    "filtered_tuples = list(top_128_rows[['layer_idx', 'neuron_idx', 'dpo_pregelu_activation']].itertuples(index=False, name=None))\n",
    "\n",
    "# Print the result\n",
    "print(\"List of tuples (layer_index, neuron_index, dpo_pregelu_activation):\")\n",
    "print(filtered_tuples)"
   ]
  },
  {
   "cell_type": "code",
   "execution_count": 15,
   "metadata": {},
   "outputs": [
    {
     "name": "stdout",
     "output_type": "stream",
     "text": [
      "Total number of rows with highest cosine similarity and positive GPT-2 activation: 60\n",
      "List of tuples (layer_index, neuron_index, dpo_pregelu_activation):\n",
      "[(19, 770, -0.016977283051654416), (12, 771, 0.04969537966124989), (18, 2669, 0.0038321316381261807), (13, 668, -0.07058810171775307), (16, 255, -0.0011058073715099835), (12, 882, -0.113394102185773), (19, 1438, 0.15294501710233885), (9, 545, -0.10686375994200416), (8, 2854, -0.05395217817731824), (3, 3680, -0.015262110350101077), (14, 1958, -0.1336680829902643), (7, 1735, -0.11794289513106787), (13, 2258, -0.10931066076252646), (11, 1550, -0.11230842916543096), (3, 704, -0.10765209018216775), (10, 3477, -0.09382688046268217), (13, 1023, -0.09818235291497254), (13, 253, -0.12699634360404508), (10, 2936, -0.15094208805809126), (0, 2352, -0.024648923979238926), (7, 1916, -0.13753848921096778), (3, 3742, -0.038883108764911044), (11, 2844, -0.19994687566480335), (11, 4021, -0.06456283217355124), (11, 175, -0.03322151300842863), (19, 3341, -0.0400893763734337), (3, 1656, -0.11885428226975356), (5, 1744, -0.19015554044825048), (7, 3358, -0.25328014688819744), (12, 1826, -0.1986207199683121), (16, 603, -0.0830782511479893), (11, 3414, -0.15344125247823556), (11, 2617, -0.08237272546877626), (9, 340, -0.1548007410703725), (8, 3200, 0.0812912976275755), (16, 1741, -0.1079464007749822), (19, 2312, -0.07821941281372657), (13, 1544, 0.0027353818722930016), (20, 3210, 0.04564807678187968), (12, 3413, -0.09751140549980601), (12, 3349, -0.15577198104664944), (0, 3752, -0.10184885016828311), (11, 3437, -0.15963582154818645), (15, 1696, -0.17730170989714597), (2, 3998, -0.24047481032556384), (23, 1672, -0.15955439163643606), (12, 877, 0.03388040286304971), (7, 3701, -0.12290283256538138), (6, 2994, -0.1044293696556899), (6, 3972, 0.2822371293946999), (13, 4065, -0.08091273764975808), (0, 3393, 0.124103322553862), (9, 2758, -0.12183615033556608), (15, 4051, -0.08477020348245651), (7, 2018, -0.22263704076626406), (7, 2494, -0.1645111102652219), (3, 2765, -0.06285597406207963), (15, 511, -0.226180246452182), (12, 2756, -0.006951245786421365), (1, 2057, -0.10725545616909991)]\n"
     ]
    }
   ],
   "source": [
    "# Filter the DataFrame for the top 60 rows by cosine_similarity\n",
    "top_60_rows = df.nlargest(60, 'pt_cossim')\n",
    "\n",
    "# Get the total number of such rows\n",
    "total_filtered_rows = top_60_rows.shape[0]\n",
    "\n",
    "# Print the result\n",
    "print(\"Total number of rows with highest cosine similarity and positive GPT-2 activation:\", total_filtered_rows)\n",
    "\n",
    "# Extract the list of tuples\n",
    "filtered_tuples = list(top_60_rows[['layer_idx', 'neuron_idx', 'dpo_pregelu_activation']].itertuples(index=False, name=None))\n",
    "\n",
    "# Print the result\n",
    "print(\"List of tuples (layer_index, neuron_index, dpo_pregelu_activation):\")\n",
    "print(filtered_tuples)"
   ]
  },
  {
   "cell_type": "code",
   "execution_count": 17,
   "metadata": {},
   "outputs": [
    {
     "name": "stdout",
     "output_type": "stream",
     "text": [
      "Total number of rows with highest cosine similarity and positive GPT-2 activation: 36\n",
      "List of tuples (layer_index, neuron_index, dpo_pregelu_activation):\n",
      "[(19, 770, -0.016977283051654416), (12, 771, 0.04969537966124989), (18, 2669, 0.0038321316381261807), (13, 668, -0.07058810171775307), (16, 255, -0.0011058073715099835), (12, 882, -0.113394102185773), (19, 1438, 0.15294501710233885), (8, 2854, -0.05395217817731824), (3, 3680, -0.015262110350101077), (14, 1958, -0.1336680829902643), (13, 2258, -0.10931066076252646), (11, 1550, -0.11230842916543096), (10, 3477, -0.09382688046268217), (0, 2352, -0.024648923979238926), (3, 3742, -0.038883108764911044), (11, 4021, -0.06456283217355124), (11, 175, -0.03322151300842863), (19, 3341, -0.0400893763734337), (16, 603, -0.0830782511479893), (11, 2617, -0.08237272546877626), (8, 3200, 0.0812912976275755), (19, 2312, -0.07821941281372657), (20, 3210, 0.04564807678187968), (12, 3413, -0.09751140549980601), (6, 3972, 0.2822371293946999), (0, 3393, 0.124103322553862), (15, 4051, -0.08477020348245651), (13, 3243, 0.03825933790651623), (10, 628, 0.009943307548281917), (15, 3116, -0.026283345742626075), (19, 505, -0.09374061655121844), (1, 1342, -0.054551162094832996), (14, 883, -0.1315346188792163), (7, 3688, 0.026968600840485135), (17, 3162, -0.014612488944539157), (1, 572, 0.0006069859673654075)]\n"
     ]
    }
   ],
   "source": [
    "# Filter the DataFrame for the top 128 rows by cosine_similarity\n",
    "top_128_rows = df.nlargest(128, 'pt_cossim')\n",
    "\n",
    "# Further filter for rows with positive gpt2_activation\n",
    "filtered_rows = top_128_rows[top_128_rows['pt_activation'] > 0]\n",
    "\n",
    "# Get the total number of such rows\n",
    "total_filtered_rows = filtered_rows.shape[0]\n",
    "\n",
    "# Print the result\n",
    "print(\"Total number of rows with highest cosine similarity and positive GPT-2 activation:\", total_filtered_rows)\n",
    "\n",
    "# Extract the list of tuples\n",
    "filtered_tuples = list(filtered_rows[['layer_idx', 'neuron_idx', 'dpo_pregelu_activation']].itertuples(index=False, name=None))\n",
    "\n",
    "# Print the result\n",
    "print(\"List of tuples (layer_index, neuron_index, dpo_pregelu_activation):\")\n",
    "print(filtered_tuples)\n"
   ]
  }
 ],
 "metadata": {
  "kernelspec": {
   "display_name": "toxicity",
   "language": "python",
   "name": "python3"
  },
  "language_info": {
   "codemirror_mode": {
    "name": "ipython",
    "version": 3
   },
   "file_extension": ".py",
   "mimetype": "text/x-python",
   "name": "python",
   "nbconvert_exporter": "python",
   "pygments_lexer": "ipython3",
   "version": "3.12.7"
  },
  "orig_nbformat": 4
 },
 "nbformat": 4,
 "nbformat_minor": 2
}
