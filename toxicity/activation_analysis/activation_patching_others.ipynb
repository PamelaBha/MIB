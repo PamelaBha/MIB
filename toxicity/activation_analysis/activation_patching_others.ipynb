{
 "cells": [
  {
   "cell_type": "code",
   "execution_count": 1,
   "metadata": {},
   "outputs": [],
   "source": [
    "import pandas as pd\n",
    "import numpy as np\n",
    "from scipy.optimize import root_scalar"
   ]
  },
  {
   "cell_type": "code",
   "execution_count": 3,
   "metadata": {},
   "outputs": [
    {
     "name": "stdout",
     "output_type": "stream",
     "text": [
      "   layer_idx  neuron_idx  dpo_cosine_similarity  dpo_projection_value  \\\n",
      "0          0           0               0.000140              0.000001   \n",
      "1          0           1               0.006405             -0.000042   \n",
      "2          0           2               0.002937              0.000007   \n",
      "3          0           3              -0.000340              0.000001   \n",
      "4          0           4              -0.048767              0.000382   \n",
      "\n",
      "   dpo_activation_value  pt_cosine_similarity  pt_projection_value  \\\n",
      "0              0.023575             -0.000066        -5.960464e-07   \n",
      "1             -0.016129              0.006180        -2.896786e-05   \n",
      "2              0.006214              0.002983         5.602837e-06   \n",
      "3             -0.007721             -0.000586         4.172325e-07   \n",
      "4             -0.022491             -0.048981         3.707409e-04   \n",
      "\n",
      "   pt_activation_value  \n",
      "0             0.024582  \n",
      "1            -0.011658  \n",
      "2             0.004894  \n",
      "3            -0.001814  \n",
      "4            -0.021744  \n"
     ]
    }
   ],
   "source": [
    "# csv_files = [\"/data/kebl6672/dpo-toxic-general/toxicity/gemma2_dpo_neuron_cossims.csv\", \"/data/kebl6672/dpo-toxic-general/toxicity/gemma2_dpo_neuron_projections.csv\", \"/data/kebl6672/dpo-toxic-general/toxicity/gemma2_neuron_cossims.csv\", \"/data/kebl6672/dpo-toxic-general/toxicity/gemma2_neuron_projections.csv\"]\n",
    "\n",
    "# # Read all CSV files into dataframes\n",
    "# dfs = [pd.read_csv(file) for file in csv_files]\n",
    "\n",
    "# # Merge dataframes on 'layer_idx' and 'neuron_idx'\n",
    "# merged_df = dfs[0]\n",
    "# for df in dfs[1:]:\n",
    "#     merged_df = pd.merge(merged_df, df, on=['layer_idx', 'neuron_idx'], how='outer')\n",
    "\n",
    "# # Save the merged dataframe to a new CSV file\n",
    "# merged_df.to_csv(\"/data/kebl6672/dpo-toxic-general/toxicity/gemma2_all_neuron_metrics.csv\", index=False)\n",
    "\n",
    "# # Display the first few rows\n",
    "# print(merged_df.head())"
   ]
  },
  {
   "cell_type": "code",
   "execution_count": 8,
   "metadata": {},
   "outputs": [
    {
     "ename": "FileNotFoundError",
     "evalue": "[Errno 2] No such file or directory: '/data/kebl6672/dpo-toxic-general/toxicity/mistral_neuron_cossims.csv'",
     "output_type": "error",
     "traceback": [
      "\u001b[0;31m---------------------------------------------------------------------------\u001b[0m",
      "\u001b[0;31mFileNotFoundError\u001b[0m                         Traceback (most recent call last)",
      "Cell \u001b[0;32mIn[8], line 4\u001b[0m\n\u001b[1;32m      1\u001b[0m csv_files \u001b[39m=\u001b[39m [\u001b[39m\"\u001b[39m\u001b[39m/data/kebl6672/dpo-toxic-general/toxicity/mistral_neuron_cossims.csv\u001b[39m\u001b[39m\"\u001b[39m, \u001b[39m\"\u001b[39m\u001b[39m/data/kebl6672/dpo-toxic-general/toxicity/mistral_neuron_projections.csv\u001b[39m\u001b[39m\"\u001b[39m]\n\u001b[1;32m      3\u001b[0m \u001b[39m# Read all CSV files into dataframes\u001b[39;00m\n\u001b[0;32m----> 4\u001b[0m dfs \u001b[39m=\u001b[39m [pd\u001b[39m.\u001b[39;49mread_csv(file) \u001b[39mfor\u001b[39;00m file \u001b[39min\u001b[39;00m csv_files]\n\u001b[1;32m      6\u001b[0m \u001b[39m# Merge dataframes on 'layer_idx' and 'neuron_idx'\u001b[39;00m\n\u001b[1;32m      7\u001b[0m merged_df \u001b[39m=\u001b[39m dfs[\u001b[39m0\u001b[39m]\n",
      "File \u001b[0;32m/data/kebl6672/miniconda3/envs/toxic/lib/python3.12/site-packages/pandas/io/parsers/readers.py:1026\u001b[0m, in \u001b[0;36mread_csv\u001b[0;34m(filepath_or_buffer, sep, delimiter, header, names, index_col, usecols, dtype, engine, converters, true_values, false_values, skipinitialspace, skiprows, skipfooter, nrows, na_values, keep_default_na, na_filter, verbose, skip_blank_lines, parse_dates, infer_datetime_format, keep_date_col, date_parser, date_format, dayfirst, cache_dates, iterator, chunksize, compression, thousands, decimal, lineterminator, quotechar, quoting, doublequote, escapechar, comment, encoding, encoding_errors, dialect, on_bad_lines, delim_whitespace, low_memory, memory_map, float_precision, storage_options, dtype_backend)\u001b[0m\n\u001b[1;32m   1013\u001b[0m kwds_defaults \u001b[39m=\u001b[39m _refine_defaults_read(\n\u001b[1;32m   1014\u001b[0m     dialect,\n\u001b[1;32m   1015\u001b[0m     delimiter,\n\u001b[0;32m   (...)\u001b[0m\n\u001b[1;32m   1022\u001b[0m     dtype_backend\u001b[39m=\u001b[39mdtype_backend,\n\u001b[1;32m   1023\u001b[0m )\n\u001b[1;32m   1024\u001b[0m kwds\u001b[39m.\u001b[39mupdate(kwds_defaults)\n\u001b[0;32m-> 1026\u001b[0m \u001b[39mreturn\u001b[39;00m _read(filepath_or_buffer, kwds)\n",
      "File \u001b[0;32m/data/kebl6672/miniconda3/envs/toxic/lib/python3.12/site-packages/pandas/io/parsers/readers.py:620\u001b[0m, in \u001b[0;36m_read\u001b[0;34m(filepath_or_buffer, kwds)\u001b[0m\n\u001b[1;32m    617\u001b[0m _validate_names(kwds\u001b[39m.\u001b[39mget(\u001b[39m\"\u001b[39m\u001b[39mnames\u001b[39m\u001b[39m\"\u001b[39m, \u001b[39mNone\u001b[39;00m))\n\u001b[1;32m    619\u001b[0m \u001b[39m# Create the parser.\u001b[39;00m\n\u001b[0;32m--> 620\u001b[0m parser \u001b[39m=\u001b[39m TextFileReader(filepath_or_buffer, \u001b[39m*\u001b[39;49m\u001b[39m*\u001b[39;49mkwds)\n\u001b[1;32m    622\u001b[0m \u001b[39mif\u001b[39;00m chunksize \u001b[39mor\u001b[39;00m iterator:\n\u001b[1;32m    623\u001b[0m     \u001b[39mreturn\u001b[39;00m parser\n",
      "File \u001b[0;32m/data/kebl6672/miniconda3/envs/toxic/lib/python3.12/site-packages/pandas/io/parsers/readers.py:1620\u001b[0m, in \u001b[0;36mTextFileReader.__init__\u001b[0;34m(self, f, engine, **kwds)\u001b[0m\n\u001b[1;32m   1617\u001b[0m     \u001b[39mself\u001b[39m\u001b[39m.\u001b[39moptions[\u001b[39m\"\u001b[39m\u001b[39mhas_index_names\u001b[39m\u001b[39m\"\u001b[39m] \u001b[39m=\u001b[39m kwds[\u001b[39m\"\u001b[39m\u001b[39mhas_index_names\u001b[39m\u001b[39m\"\u001b[39m]\n\u001b[1;32m   1619\u001b[0m \u001b[39mself\u001b[39m\u001b[39m.\u001b[39mhandles: IOHandles \u001b[39m|\u001b[39m \u001b[39mNone\u001b[39;00m \u001b[39m=\u001b[39m \u001b[39mNone\u001b[39;00m\n\u001b[0;32m-> 1620\u001b[0m \u001b[39mself\u001b[39m\u001b[39m.\u001b[39m_engine \u001b[39m=\u001b[39m \u001b[39mself\u001b[39;49m\u001b[39m.\u001b[39;49m_make_engine(f, \u001b[39mself\u001b[39;49m\u001b[39m.\u001b[39;49mengine)\n",
      "File \u001b[0;32m/data/kebl6672/miniconda3/envs/toxic/lib/python3.12/site-packages/pandas/io/parsers/readers.py:1880\u001b[0m, in \u001b[0;36mTextFileReader._make_engine\u001b[0;34m(self, f, engine)\u001b[0m\n\u001b[1;32m   1878\u001b[0m     \u001b[39mif\u001b[39;00m \u001b[39m\"\u001b[39m\u001b[39mb\u001b[39m\u001b[39m\"\u001b[39m \u001b[39mnot\u001b[39;00m \u001b[39min\u001b[39;00m mode:\n\u001b[1;32m   1879\u001b[0m         mode \u001b[39m+\u001b[39m\u001b[39m=\u001b[39m \u001b[39m\"\u001b[39m\u001b[39mb\u001b[39m\u001b[39m\"\u001b[39m\n\u001b[0;32m-> 1880\u001b[0m \u001b[39mself\u001b[39m\u001b[39m.\u001b[39mhandles \u001b[39m=\u001b[39m get_handle(\n\u001b[1;32m   1881\u001b[0m     f,\n\u001b[1;32m   1882\u001b[0m     mode,\n\u001b[1;32m   1883\u001b[0m     encoding\u001b[39m=\u001b[39;49m\u001b[39mself\u001b[39;49m\u001b[39m.\u001b[39;49moptions\u001b[39m.\u001b[39;49mget(\u001b[39m\"\u001b[39;49m\u001b[39mencoding\u001b[39;49m\u001b[39m\"\u001b[39;49m, \u001b[39mNone\u001b[39;49;00m),\n\u001b[1;32m   1884\u001b[0m     compression\u001b[39m=\u001b[39;49m\u001b[39mself\u001b[39;49m\u001b[39m.\u001b[39;49moptions\u001b[39m.\u001b[39;49mget(\u001b[39m\"\u001b[39;49m\u001b[39mcompression\u001b[39;49m\u001b[39m\"\u001b[39;49m, \u001b[39mNone\u001b[39;49;00m),\n\u001b[1;32m   1885\u001b[0m     memory_map\u001b[39m=\u001b[39;49m\u001b[39mself\u001b[39;49m\u001b[39m.\u001b[39;49moptions\u001b[39m.\u001b[39;49mget(\u001b[39m\"\u001b[39;49m\u001b[39mmemory_map\u001b[39;49m\u001b[39m\"\u001b[39;49m, \u001b[39mFalse\u001b[39;49;00m),\n\u001b[1;32m   1886\u001b[0m     is_text\u001b[39m=\u001b[39;49mis_text,\n\u001b[1;32m   1887\u001b[0m     errors\u001b[39m=\u001b[39;49m\u001b[39mself\u001b[39;49m\u001b[39m.\u001b[39;49moptions\u001b[39m.\u001b[39;49mget(\u001b[39m\"\u001b[39;49m\u001b[39mencoding_errors\u001b[39;49m\u001b[39m\"\u001b[39;49m, \u001b[39m\"\u001b[39;49m\u001b[39mstrict\u001b[39;49m\u001b[39m\"\u001b[39;49m),\n\u001b[1;32m   1888\u001b[0m     storage_options\u001b[39m=\u001b[39;49m\u001b[39mself\u001b[39;49m\u001b[39m.\u001b[39;49moptions\u001b[39m.\u001b[39;49mget(\u001b[39m\"\u001b[39;49m\u001b[39mstorage_options\u001b[39;49m\u001b[39m\"\u001b[39;49m, \u001b[39mNone\u001b[39;49;00m),\n\u001b[1;32m   1889\u001b[0m )\n\u001b[1;32m   1890\u001b[0m \u001b[39massert\u001b[39;00m \u001b[39mself\u001b[39m\u001b[39m.\u001b[39mhandles \u001b[39mis\u001b[39;00m \u001b[39mnot\u001b[39;00m \u001b[39mNone\u001b[39;00m\n\u001b[1;32m   1891\u001b[0m f \u001b[39m=\u001b[39m \u001b[39mself\u001b[39m\u001b[39m.\u001b[39mhandles\u001b[39m.\u001b[39mhandle\n",
      "File \u001b[0;32m/data/kebl6672/miniconda3/envs/toxic/lib/python3.12/site-packages/pandas/io/common.py:873\u001b[0m, in \u001b[0;36mget_handle\u001b[0;34m(path_or_buf, mode, encoding, compression, memory_map, is_text, errors, storage_options)\u001b[0m\n\u001b[1;32m    868\u001b[0m \u001b[39melif\u001b[39;00m \u001b[39misinstance\u001b[39m(handle, \u001b[39mstr\u001b[39m):\n\u001b[1;32m    869\u001b[0m     \u001b[39m# Check whether the filename is to be opened in binary mode.\u001b[39;00m\n\u001b[1;32m    870\u001b[0m     \u001b[39m# Binary mode does not support 'encoding' and 'newline'.\u001b[39;00m\n\u001b[1;32m    871\u001b[0m     \u001b[39mif\u001b[39;00m ioargs\u001b[39m.\u001b[39mencoding \u001b[39mand\u001b[39;00m \u001b[39m\"\u001b[39m\u001b[39mb\u001b[39m\u001b[39m\"\u001b[39m \u001b[39mnot\u001b[39;00m \u001b[39min\u001b[39;00m ioargs\u001b[39m.\u001b[39mmode:\n\u001b[1;32m    872\u001b[0m         \u001b[39m# Encoding\u001b[39;00m\n\u001b[0;32m--> 873\u001b[0m         handle \u001b[39m=\u001b[39m \u001b[39mopen\u001b[39;49m(\n\u001b[1;32m    874\u001b[0m             handle,\n\u001b[1;32m    875\u001b[0m             ioargs\u001b[39m.\u001b[39;49mmode,\n\u001b[1;32m    876\u001b[0m             encoding\u001b[39m=\u001b[39;49mioargs\u001b[39m.\u001b[39;49mencoding,\n\u001b[1;32m    877\u001b[0m             errors\u001b[39m=\u001b[39;49merrors,\n\u001b[1;32m    878\u001b[0m             newline\u001b[39m=\u001b[39;49m\u001b[39m\"\u001b[39;49m\u001b[39m\"\u001b[39;49m,\n\u001b[1;32m    879\u001b[0m         )\n\u001b[1;32m    880\u001b[0m     \u001b[39melse\u001b[39;00m:\n\u001b[1;32m    881\u001b[0m         \u001b[39m# Binary mode\u001b[39;00m\n\u001b[1;32m    882\u001b[0m         handle \u001b[39m=\u001b[39m \u001b[39mopen\u001b[39m(handle, ioargs\u001b[39m.\u001b[39mmode)\n",
      "\u001b[0;31mFileNotFoundError\u001b[0m: [Errno 2] No such file or directory: '/data/kebl6672/dpo-toxic-general/toxicity/mistral_neuron_cossims.csv'"
     ]
    }
   ],
   "source": [
    "csv_files = [\"/data/kebl6672/dpo-toxic-general/toxicity/mistral_neuron_cossims.csv\", \"/data/kebl6672/dpo-toxic-general/toxicity/mistral_neuron_projections.csv\"]\n",
    "\n",
    "# Read all CSV files into dataframes\n",
    "dfs = [pd.read_csv(file) for file in csv_files]\n",
    "\n",
    "# Merge dataframes on 'layer_idx' and 'neuron_idx'\n",
    "merged_df = dfs[0]\n",
    "for df in dfs[1:]:\n",
    "    merged_df = pd.merge(merged_df, df, on=['layer_idx', 'neuron_idx'], how='outer')\n",
    "\n",
    "# Save the merged dataframe to a new CSV file\n",
    "merged_df.to_csv(\"/data/kebl6672/dpo-toxic-general/toxicity/mistral_embed_neuron_metrics.csv\", index=False)\n",
    "\n",
    "# Display the first few rows\n",
    "print(merged_df.head())"
   ]
  },
  {
   "cell_type": "code",
   "execution_count": 9,
   "metadata": {},
   "outputs": [],
   "source": [
    "# Use old version!\n",
    "df = pd.read_csv('/data/kebl6672/dpo-toxic-general/toxicity/mistral_embed_neuron_metrics.csv')"
   ]
  },
  {
   "cell_type": "code",
   "execution_count": 2,
   "metadata": {},
   "outputs": [],
   "source": [
    "# Use old version!\n",
    "df = pd.read_csv('/data/kebl6672/dpo-toxic-general/toxicity/llama3_all_neuron_metrics.csv')"
   ]
  },
  {
   "cell_type": "code",
   "execution_count": 3,
   "metadata": {},
   "outputs": [],
   "source": [
    "df = df.replace([np.inf, -np.inf], np.nan).dropna()"
   ]
  },
  {
   "cell_type": "code",
   "execution_count": 5,
   "metadata": {},
   "outputs": [],
   "source": [
    "# df['activation_diff'] = df['pt_activation_value'] - df['dpo_activation_value']\n",
    "# df['projection_diff'] = df['pt_projection_value'] - df['dpo_projection_value']"
   ]
  },
  {
   "cell_type": "code",
   "execution_count": 4,
   "metadata": {},
   "outputs": [
    {
     "data": {
      "text/html": [
       "<div>\n",
       "<style scoped>\n",
       "    .dataframe tbody tr th:only-of-type {\n",
       "        vertical-align: middle;\n",
       "    }\n",
       "\n",
       "    .dataframe tbody tr th {\n",
       "        vertical-align: top;\n",
       "    }\n",
       "\n",
       "    .dataframe thead th {\n",
       "        text-align: right;\n",
       "    }\n",
       "</style>\n",
       "<table border=\"1\" class=\"dataframe\">\n",
       "  <thead>\n",
       "    <tr style=\"text-align: right;\">\n",
       "      <th></th>\n",
       "      <th>layer_idx</th>\n",
       "      <th>neuron_idx</th>\n",
       "      <th>dpo_cosine_similarity</th>\n",
       "      <th>dpo_projection_value</th>\n",
       "      <th>dpo_activation_value</th>\n",
       "      <th>pt_cosine_similarity</th>\n",
       "      <th>pt_projection_value</th>\n",
       "      <th>pt_activation_value</th>\n",
       "    </tr>\n",
       "  </thead>\n",
       "  <tbody>\n",
       "    <tr>\n",
       "      <th>0</th>\n",
       "      <td>0</td>\n",
       "      <td>0</td>\n",
       "      <td>0.008034</td>\n",
       "      <td>-0.002918</td>\n",
       "      <td>-0.000184</td>\n",
       "      <td>0.008034</td>\n",
       "      <td>-0.002989</td>\n",
       "      <td>-0.000189</td>\n",
       "    </tr>\n",
       "    <tr>\n",
       "      <th>1</th>\n",
       "      <td>0</td>\n",
       "      <td>1</td>\n",
       "      <td>-0.000513</td>\n",
       "      <td>-0.000097</td>\n",
       "      <td>0.000095</td>\n",
       "      <td>-0.000513</td>\n",
       "      <td>-0.000133</td>\n",
       "      <td>0.000130</td>\n",
       "    </tr>\n",
       "    <tr>\n",
       "      <th>2</th>\n",
       "      <td>0</td>\n",
       "      <td>2</td>\n",
       "      <td>0.002647</td>\n",
       "      <td>-0.001558</td>\n",
       "      <td>-0.000323</td>\n",
       "      <td>0.002647</td>\n",
       "      <td>-0.001447</td>\n",
       "      <td>-0.000300</td>\n",
       "    </tr>\n",
       "    <tr>\n",
       "      <th>3</th>\n",
       "      <td>0</td>\n",
       "      <td>3</td>\n",
       "      <td>-0.044128</td>\n",
       "      <td>0.002867</td>\n",
       "      <td>-0.000034</td>\n",
       "      <td>-0.044128</td>\n",
       "      <td>0.010277</td>\n",
       "      <td>-0.000121</td>\n",
       "    </tr>\n",
       "    <tr>\n",
       "      <th>4</th>\n",
       "      <td>0</td>\n",
       "      <td>4</td>\n",
       "      <td>0.021164</td>\n",
       "      <td>-0.008995</td>\n",
       "      <td>-0.000219</td>\n",
       "      <td>0.021164</td>\n",
       "      <td>-0.007141</td>\n",
       "      <td>-0.000174</td>\n",
       "    </tr>\n",
       "  </tbody>\n",
       "</table>\n",
       "</div>"
      ],
      "text/plain": [
       "   layer_idx  neuron_idx  dpo_cosine_similarity  dpo_projection_value  \\\n",
       "0          0           0               0.008034             -0.002918   \n",
       "1          0           1              -0.000513             -0.000097   \n",
       "2          0           2               0.002647             -0.001558   \n",
       "3          0           3              -0.044128              0.002867   \n",
       "4          0           4               0.021164             -0.008995   \n",
       "\n",
       "   dpo_activation_value  pt_cosine_similarity  pt_projection_value  \\\n",
       "0             -0.000184              0.008034            -0.002989   \n",
       "1              0.000095             -0.000513            -0.000133   \n",
       "2             -0.000323              0.002647            -0.001447   \n",
       "3             -0.000034             -0.044128             0.010277   \n",
       "4             -0.000219              0.021164            -0.007141   \n",
       "\n",
       "   pt_activation_value  \n",
       "0            -0.000189  \n",
       "1             0.000130  \n",
       "2            -0.000300  \n",
       "3            -0.000121  \n",
       "4            -0.000174  "
      ]
     },
     "execution_count": 4,
     "metadata": {},
     "output_type": "execute_result"
    }
   ],
   "source": [
    "df.head()"
   ]
  },
  {
   "cell_type": "markdown",
   "metadata": {},
   "source": [
    "##### Extract all neuron indexes from each neuron group"
   ]
  },
  {
   "cell_type": "code",
   "execution_count": 20,
   "metadata": {},
   "outputs": [
    {
     "name": "stdout",
     "output_type": "stream",
     "text": [
      "220293\n"
     ]
    }
   ],
   "source": [
    "# Patch all uparrow ones\n",
    "tuples_list = [\n",
    "    (int(row['layer_idx']), int(row['neuron_idx']), row['dpo_activation_value'])\n",
    "    for _, row in df.iterrows()\n",
    "    if (row['projection_diff'] < 0) \n",
    "]\n",
    "\n",
    "print(len(tuples_list))"
   ]
  },
  {
   "cell_type": "code",
   "execution_count": 35,
   "metadata": {},
   "outputs": [],
   "source": [
    "df_subset = pd.DataFrame(tuples_list, columns=[\"layer_idx\", \"neuron_idx\", \"assigned_value\"])\n",
    "df_subset.to_csv(\"mistral_patch_four_neuron_configs.csv\", index=False)"
   ]
  },
  {
   "cell_type": "code",
   "execution_count": 22,
   "metadata": {},
   "outputs": [
    {
     "name": "stdout",
     "output_type": "stream",
     "text": [
      "48306\n"
     ]
    }
   ],
   "source": [
    "# Patch AP\n",
    "tuples_list = [\n",
    "    (int(row['layer_idx']), int(row['neuron_idx']), row['dpo_activation_value'])\n",
    "    for _, row in df.iterrows()\n",
    "    if (row['pt_cosine_similarity'] < 0 and row['pt_activation_value'] > 0 and row['projection_diff'] > 0) # AP\n",
    "]\n",
    "\n",
    "print(len(tuples_list))"
   ]
  },
  {
   "cell_type": "code",
   "execution_count": 24,
   "metadata": {},
   "outputs": [
    {
     "name": "stdout",
     "output_type": "stream",
     "text": [
      "70928\n"
     ]
    }
   ],
   "source": [
    "# Patch AN\n",
    "tuples_list = [\n",
    "    (int(row['layer_idx']), int(row['neuron_idx']), row['dpo_activation_value'])\n",
    "    for _, row in df.iterrows()\n",
    "    if (row['pt_cosine_similarity'] < 0 and row['pt_activation_value'] < 0 and row['projection_diff'] > 0) # AN\n",
    "]\n",
    "\n",
    "print(len(tuples_list))"
   ]
  },
  {
   "cell_type": "code",
   "execution_count": 26,
   "metadata": {},
   "outputs": [
    {
     "name": "stdout",
     "output_type": "stream",
     "text": [
      "48371\n"
     ]
    }
   ],
   "source": [
    "# Patch TN\n",
    "tuples_list = [\n",
    "    (int(row['layer_idx']), int(row['neuron_idx']), row['dpo_activation_value'])\n",
    "    for _, row in df.iterrows()\n",
    "    if (row['pt_cosine_similarity'] > 0 and row['pt_activation_value'] < 0 and row['projection_diff'] > 0) # TN  \n",
    "]\n",
    "\n",
    "print(len(tuples_list))"
   ]
  },
  {
   "cell_type": "code",
   "execution_count": 28,
   "metadata": {},
   "outputs": [
    {
     "name": "stdout",
     "output_type": "stream",
     "text": [
      "70830\n"
     ]
    }
   ],
   "source": [
    "# Patch TP\n",
    "tuples_list = [\n",
    "    (int(row['layer_idx']), int(row['neuron_idx']), row['dpo_activation_value'])\n",
    "    for _, row in df.iterrows()\n",
    "    if (row['pt_cosine_similarity'] > 0 and row['pt_activation_value'] > 0 and row['projection_diff'] > 0) # TP    \n",
    "]\n",
    "\n",
    "print(len(tuples_list))"
   ]
  },
  {
   "cell_type": "code",
   "execution_count": 30,
   "metadata": {},
   "outputs": [
    {
     "name": "stdout",
     "output_type": "stream",
     "text": [
      "141758\n"
     ]
    }
   ],
   "source": [
    "# Patch TP + AN\n",
    "tuples_list = [\n",
    "    (int(row['layer_idx']), int(row['neuron_idx']), row['dpo_activation_value'])\n",
    "    for _, row in df.iterrows()\n",
    "    if (row['pt_cosine_similarity'] < 0 and row['pt_activation_value'] < 0 and row['projection_diff'] > 0) or # AN\n",
    "       (row['pt_cosine_similarity'] > 0 and row['pt_activation_value'] > 0 and row['projection_diff'] > 0) # TP    \n",
    "]\n",
    "\n",
    "print(len(tuples_list))"
   ]
  },
  {
   "cell_type": "code",
   "execution_count": 32,
   "metadata": {},
   "outputs": [
    {
     "name": "stdout",
     "output_type": "stream",
     "text": [
      "190129\n"
     ]
    }
   ],
   "source": [
    "# Patch TP + AN + TN\n",
    "tuples_list = [\n",
    "    (int(row['layer_idx']), int(row['neuron_idx']), row['dpo_activation_value'])\n",
    "    for _, row in df.iterrows()\n",
    "    if (row['pt_cosine_similarity'] < 0 and row['pt_activation_value'] < 0 and row['projection_diff'] > 0) or # AN\n",
    "       (row['pt_cosine_similarity'] > 0 and row['pt_activation_value'] < 0 and row['projection_diff'] > 0) or # TN\n",
    "       (row['pt_cosine_similarity'] > 0 and row['pt_activation_value'] > 0 and row['projection_diff'] > 0) # TP    \n",
    "]\n",
    "\n",
    "print(len(tuples_list))"
   ]
  },
  {
   "cell_type": "code",
   "execution_count": 34,
   "metadata": {},
   "outputs": [
    {
     "name": "stdout",
     "output_type": "stream",
     "text": [
      "238435\n"
     ]
    }
   ],
   "source": [
    "# Patch all four groups\n",
    "tuples_list = [\n",
    "    (int(row['layer_idx']), int(row['neuron_idx']), row['dpo_activation_value'])\n",
    "    for _, row in df.iterrows()\n",
    "    if (row['pt_cosine_similarity'] < 0 and row['pt_activation_value'] > 0 and row['projection_diff'] > 0) or # AP\n",
    "       (row['pt_cosine_similarity'] < 0 and row['pt_activation_value'] < 0 and row['projection_diff'] > 0) or # AN\n",
    "       (row['pt_cosine_similarity'] > 0 and row['pt_activation_value'] < 0 and row['projection_diff'] > 0) or # TN\n",
    "       (row['pt_cosine_similarity'] > 0 and row['pt_activation_value'] > 0 and row['projection_diff'] > 0) # TP    \n",
    "]\n",
    "\n",
    "print(len(tuples_list))\n"
   ]
  },
  {
   "cell_type": "markdown",
   "metadata": {},
   "source": [
    "##### Tuning-free group identification"
   ]
  },
  {
   "cell_type": "code",
   "execution_count": 12,
   "metadata": {},
   "outputs": [
    {
     "name": "stdout",
     "output_type": "stream",
     "text": [
      "114673\n"
     ]
    }
   ],
   "source": [
    "# Halve TP \n",
    "tuples_list = [\n",
    "    (int(row['layer_idx']), int(row['neuron_idx']), row['pt_activation_value']/2)\n",
    "    for _, row in df.iterrows()\n",
    "    if (row['pt_cosine_similarity'] > 0 and row['pt_activation_value'] > 0) # TP    \n",
    "]\n",
    "print(len(tuples_list))"
   ]
  },
  {
   "cell_type": "code",
   "execution_count": 8,
   "metadata": {},
   "outputs": [],
   "source": [
    "df_subset = pd.DataFrame(tuples_list, columns=[\"layer_idx\", \"neuron_idx\", \"assigned_value\"])\n",
    "df_subset.to_csv(\"llama3_1.5_two_free_neuron_configs.csv\", index=False)"
   ]
  },
  {
   "cell_type": "code",
   "execution_count": 14,
   "metadata": {},
   "outputs": [
    {
     "name": "stdout",
     "output_type": "stream",
     "text": [
      "115029\n"
     ]
    }
   ],
   "source": [
    "# Halve AN\n",
    "tuples_list = [\n",
    "    (int(row['layer_idx']), int(row['neuron_idx']), row['pt_activation_value']/2)\n",
    "    for _, row in df.iterrows()\n",
    "    if (row['pt_cosine_similarity'] < 0 and row['pt_activation_value'] < 0) # AN  \n",
    "]\n",
    "print(len(tuples_list))"
   ]
  },
  {
   "cell_type": "code",
   "execution_count": 16,
   "metadata": {},
   "outputs": [
    {
     "name": "stdout",
     "output_type": "stream",
     "text": [
      "229702\n"
     ]
    }
   ],
   "source": [
    "# Halve TP + AN\n",
    "tuples_list = [\n",
    "    (int(row['layer_idx']), int(row['neuron_idx']), row['pt_activation_value']/2)\n",
    "    for _, row in df.iterrows()\n",
    "    if (row['pt_cosine_similarity'] < 0 and row['pt_activation_value'] < 0) or # AN\n",
    "       (row['pt_cosine_similarity'] > 0 and row['pt_activation_value'] > 0) # TP    \n",
    "]\n",
    "print(len(tuples_list))"
   ]
  },
  {
   "cell_type": "code",
   "execution_count": 18,
   "metadata": {},
   "outputs": [
    {
     "name": "stdout",
     "output_type": "stream",
     "text": [
      "114557\n"
     ]
    }
   ],
   "source": [
    "# 1.5* AP \n",
    "tuples_list = [\n",
    "    (int(row['layer_idx']), int(row['neuron_idx']), row['pt_activation_value']*1.5)\n",
    "    for _, row in df.iterrows()\n",
    "    if (row['pt_cosine_similarity'] < 0 and row['pt_activation_value'] > 0) # AP\n",
    "]\n",
    "print(len(tuples_list))"
   ]
  },
  {
   "cell_type": "code",
   "execution_count": 20,
   "metadata": {},
   "outputs": [
    {
     "name": "stdout",
     "output_type": "stream",
     "text": [
      "114473\n"
     ]
    }
   ],
   "source": [
    "# 1.5* TN\n",
    "tuples_list = [\n",
    "    (int(row['layer_idx']), int(row['neuron_idx']), row['pt_activation_value']*1.5)\n",
    "    for _, row in df.iterrows()\n",
    "    if (row['pt_cosine_similarity'] > 0 and row['pt_activation_value'] < 0) # TN  \n",
    "]\n",
    "print(len(tuples_list))"
   ]
  },
  {
   "cell_type": "code",
   "execution_count": 7,
   "metadata": {},
   "outputs": [
    {
     "name": "stdout",
     "output_type": "stream",
     "text": [
      "225815\n"
     ]
    }
   ],
   "source": [
    "# 1.5* (AP + TN)\n",
    "tuples_list = [\n",
    "    (int(row['layer_idx']), int(row['neuron_idx']), row['pt_activation_value']*1.5)\n",
    "    for _, row in df.iterrows()\n",
    "    if (row['pt_cosine_similarity'] < 0 and row['pt_activation_value'] > 0) or # AP\n",
    "       (row['pt_cosine_similarity'] > 0 and row['pt_activation_value'] < 0) # TN  \n",
    "]\n",
    "print(len(tuples_list))"
   ]
  },
  {
   "cell_type": "code",
   "execution_count": 48,
   "metadata": {},
   "outputs": [
    {
     "name": "stdout",
     "output_type": "stream",
     "text": [
      "458728\n"
     ]
    }
   ],
   "source": [
    "# 0.75# for TP and AN, 1.25* for AP and TN\n",
    "tuples_list = [\n",
    "    (int(row['layer_idx']), int(row['neuron_idx']), row['pt_activation_value'] * 0.75) \n",
    "    if (row['pt_cosine_similarity'] > 0 and row['pt_activation_value'] > 0) or  # TP\n",
    "       (row['pt_cosine_similarity'] < 0 and row['pt_activation_value'] < 0)    # AN\n",
    "    else (int(row['layer_idx']), int(row['neuron_idx']), row['pt_activation_value'] * 1.25)  \n",
    "    for _, row in df.iterrows()\n",
    "    if (row['pt_cosine_similarity'] < 0 and row['pt_activation_value'] > 0) or  # AP\n",
    "       (row['pt_cosine_similarity'] > 0 and row['pt_activation_value'] < 0) or  # TN\n",
    "       (row['pt_cosine_similarity'] > 0 and row['pt_activation_value'] > 0) or  # TP\n",
    "       (row['pt_cosine_similarity'] < 0 and row['pt_activation_value'] < 0)    # AN\n",
    "]\n",
    "\n",
    "print(len(tuples_list))"
   ]
  },
  {
   "cell_type": "code",
   "execution_count": 24,
   "metadata": {},
   "outputs": [
    {
     "name": "stdout",
     "output_type": "stream",
     "text": [
      "458732\n"
     ]
    }
   ],
   "source": [
    "# Halve for TP and AN, 1.5* for AP and TN\n",
    "tuples_list = [\n",
    "    (int(row['layer_idx']), int(row['neuron_idx']), row['pt_activation_value'] / 2)  # Halve activation\n",
    "    if (row['pt_cosine_similarity'] > 0 and row['pt_activation_value'] > 0) or  # TP\n",
    "       (row['pt_cosine_similarity'] < 0 and row['pt_activation_value'] < 0)    # AN\n",
    "    else (int(row['layer_idx']), int(row['neuron_idx']), row['pt_activation_value'] * 1.5)  # 1.5*activation\n",
    "    for _, row in df.iterrows()\n",
    "    if (row['pt_cosine_similarity'] < 0 and row['pt_activation_value'] > 0) or  # AP\n",
    "       (row['pt_cosine_similarity'] > 0 and row['pt_activation_value'] < 0) or  # TN\n",
    "       (row['pt_cosine_similarity'] > 0 and row['pt_activation_value'] > 0) or  # TP\n",
    "       (row['pt_cosine_similarity'] < 0 and row['pt_activation_value'] < 0)    # AN\n",
    "]\n",
    "\n",
    "print(len(tuples_list))\n"
   ]
  }
 ],
 "metadata": {
  "kernelspec": {
   "display_name": "toxicity",
   "language": "python",
   "name": "python3"
  },
  "language_info": {
   "codemirror_mode": {
    "name": "ipython",
    "version": 3
   },
   "file_extension": ".py",
   "mimetype": "text/x-python",
   "name": "python",
   "nbconvert_exporter": "python",
   "pygments_lexer": "ipython3",
   "version": "3.12.7"
  },
  "orig_nbformat": 4
 },
 "nbformat": 4,
 "nbformat_minor": 2
}
