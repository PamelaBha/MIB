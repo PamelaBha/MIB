{
 "cells": [
  {
   "cell_type": "code",
   "execution_count": 61,
   "metadata": {},
   "outputs": [],
   "source": [
    "import pandas as pd\n",
    "import numpy as np\n",
    "from scipy.optimize import root_scalar"
   ]
  },
  {
   "cell_type": "code",
   "execution_count": 2,
   "metadata": {},
   "outputs": [
    {
     "name": "stdout",
     "output_type": "stream",
     "text": [
      "   layer_idx  neuron_idx  pt_cosine_similarity  pt_projection_value  \\\n",
      "0          0           0              0.022415        -6.556511e-07   \n",
      "1          0           1             -0.020233        -7.152557e-07   \n",
      "2          0           2             -0.004261        -5.364418e-07   \n",
      "3          0           3              0.013405        -8.344650e-07   \n",
      "4          0           4             -0.019363         4.768372e-07   \n",
      "\n",
      "   pt_activation_value  dpo_cosine_similarity  dpo_projection_value  \\\n",
      "0            -0.000160               0.022430         -2.205372e-06   \n",
      "1             0.000187              -0.020126         -1.132488e-06   \n",
      "2             0.000738              -0.004234         -4.172325e-07   \n",
      "3            -0.000350               0.013634         -9.536743e-07   \n",
      "4            -0.000139              -0.019455          2.384186e-07   \n",
      "\n",
      "   dpo_activation_value  \n",
      "0             -0.000520  \n",
      "1              0.000304  \n",
      "2              0.000550  \n",
      "3             -0.000379  \n",
      "4             -0.000064  \n"
     ]
    }
   ],
   "source": [
    "# csv_files = [\"/data/kebl6672/dpo-toxic-general/toxicity/mistral_neuron_cossims.csv\", \"/data/kebl6672/dpo-toxic-general/toxicity/mistral_neuron_projections.csv\", \"/data/kebl6672/dpo-toxic-general/toxicity/mistral_dpo_neuron_cossims.csv\", \"/data/kebl6672/dpo-toxic-general/toxicity/mistral_dpo_neuron_projections.csv\"]\n",
    "\n",
    "# # Read all CSV files into dataframes\n",
    "# dfs = [pd.read_csv(file) for file in csv_files]\n",
    "\n",
    "# # Merge dataframes on 'layer_idx' and 'neuron_idx'\n",
    "# merged_df = dfs[0]\n",
    "# for df in dfs[1:]:\n",
    "#     merged_df = pd.merge(merged_df, df, on=['layer_idx', 'neuron_idx'], how='outer')\n",
    "\n",
    "# # Save the merged dataframe to a new CSV file\n",
    "# merged_df.to_csv(\"/data/kebl6672/dpo-toxic-general/toxicity/mistral_all_neuron_metrics.csv\", index=False)\n",
    "\n",
    "# # Display the first few rows\n",
    "# print(merged_df.head())"
   ]
  },
  {
   "cell_type": "code",
   "execution_count": 101,
   "metadata": {},
   "outputs": [],
   "source": [
    "# Use old version!\n",
    "df = pd.read_csv('/data/kebl6672/dpo-toxic-general/toxicity/gemma2_all_neuron_metrics.csv')"
   ]
  },
  {
   "cell_type": "code",
   "execution_count": 102,
   "metadata": {},
   "outputs": [],
   "source": [
    "df = df.replace([np.inf, -np.inf], np.nan).dropna()"
   ]
  },
  {
   "cell_type": "code",
   "execution_count": 103,
   "metadata": {},
   "outputs": [],
   "source": [
    "df['activation_diff'] = df['dpo_activation_value'] - df['pt_activation_value']\n",
    "df['projection_diff'] = df['dpo_projection_value'] - df['pt_projection_value']"
   ]
  },
  {
   "cell_type": "code",
   "execution_count": 104,
   "metadata": {},
   "outputs": [
    {
     "data": {
      "text/html": [
       "<div>\n",
       "<style scoped>\n",
       "    .dataframe tbody tr th:only-of-type {\n",
       "        vertical-align: middle;\n",
       "    }\n",
       "\n",
       "    .dataframe tbody tr th {\n",
       "        vertical-align: top;\n",
       "    }\n",
       "\n",
       "    .dataframe thead th {\n",
       "        text-align: right;\n",
       "    }\n",
       "</style>\n",
       "<table border=\"1\" class=\"dataframe\">\n",
       "  <thead>\n",
       "    <tr style=\"text-align: right;\">\n",
       "      <th></th>\n",
       "      <th>layer_idx</th>\n",
       "      <th>neuron_idx</th>\n",
       "      <th>dpo_cosine_similarity</th>\n",
       "      <th>dpo_projection_value</th>\n",
       "      <th>dpo_activation_value</th>\n",
       "      <th>pt_cosine_similarity</th>\n",
       "      <th>pt_projection_value</th>\n",
       "      <th>pt_activation_value</th>\n",
       "      <th>activation_diff</th>\n",
       "      <th>projection_diff</th>\n",
       "    </tr>\n",
       "  </thead>\n",
       "  <tbody>\n",
       "    <tr>\n",
       "      <th>0</th>\n",
       "      <td>0</td>\n",
       "      <td>0</td>\n",
       "      <td>0.000140</td>\n",
       "      <td>0.000001</td>\n",
       "      <td>0.023575</td>\n",
       "      <td>-0.000066</td>\n",
       "      <td>-5.960464e-07</td>\n",
       "      <td>0.024582</td>\n",
       "      <td>-0.001007</td>\n",
       "      <td>1.728535e-06</td>\n",
       "    </tr>\n",
       "    <tr>\n",
       "      <th>1</th>\n",
       "      <td>0</td>\n",
       "      <td>1</td>\n",
       "      <td>0.006405</td>\n",
       "      <td>-0.000042</td>\n",
       "      <td>-0.016129</td>\n",
       "      <td>0.006180</td>\n",
       "      <td>-2.896786e-05</td>\n",
       "      <td>-0.011658</td>\n",
       "      <td>-0.004471</td>\n",
       "      <td>-1.263618e-05</td>\n",
       "    </tr>\n",
       "    <tr>\n",
       "      <th>2</th>\n",
       "      <td>0</td>\n",
       "      <td>2</td>\n",
       "      <td>0.002937</td>\n",
       "      <td>0.000007</td>\n",
       "      <td>0.006214</td>\n",
       "      <td>0.002983</td>\n",
       "      <td>5.602837e-06</td>\n",
       "      <td>0.004894</td>\n",
       "      <td>0.001320</td>\n",
       "      <td>1.370907e-06</td>\n",
       "    </tr>\n",
       "    <tr>\n",
       "      <th>3</th>\n",
       "      <td>0</td>\n",
       "      <td>3</td>\n",
       "      <td>-0.000340</td>\n",
       "      <td>0.000001</td>\n",
       "      <td>-0.007721</td>\n",
       "      <td>-0.000586</td>\n",
       "      <td>4.172325e-07</td>\n",
       "      <td>-0.001814</td>\n",
       "      <td>-0.005907</td>\n",
       "      <td>5.960464e-07</td>\n",
       "    </tr>\n",
       "    <tr>\n",
       "      <th>4</th>\n",
       "      <td>0</td>\n",
       "      <td>4</td>\n",
       "      <td>-0.048767</td>\n",
       "      <td>0.000382</td>\n",
       "      <td>-0.022491</td>\n",
       "      <td>-0.048981</td>\n",
       "      <td>3.707409e-04</td>\n",
       "      <td>-0.021744</td>\n",
       "      <td>-0.000748</td>\n",
       "      <td>1.120567e-05</td>\n",
       "    </tr>\n",
       "  </tbody>\n",
       "</table>\n",
       "</div>"
      ],
      "text/plain": [
       "   layer_idx  neuron_idx  dpo_cosine_similarity  dpo_projection_value  \\\n",
       "0          0           0               0.000140              0.000001   \n",
       "1          0           1               0.006405             -0.000042   \n",
       "2          0           2               0.002937              0.000007   \n",
       "3          0           3              -0.000340              0.000001   \n",
       "4          0           4              -0.048767              0.000382   \n",
       "\n",
       "   dpo_activation_value  pt_cosine_similarity  pt_projection_value  \\\n",
       "0              0.023575             -0.000066        -5.960464e-07   \n",
       "1             -0.016129              0.006180        -2.896786e-05   \n",
       "2              0.006214              0.002983         5.602837e-06   \n",
       "3             -0.007721             -0.000586         4.172325e-07   \n",
       "4             -0.022491             -0.048981         3.707409e-04   \n",
       "\n",
       "   pt_activation_value  activation_diff  projection_diff  \n",
       "0             0.024582        -0.001007     1.728535e-06  \n",
       "1            -0.011658        -0.004471    -1.263618e-05  \n",
       "2             0.004894         0.001320     1.370907e-06  \n",
       "3            -0.001814        -0.005907     5.960464e-07  \n",
       "4            -0.021744        -0.000748     1.120567e-05  "
      ]
     },
     "execution_count": 104,
     "metadata": {},
     "output_type": "execute_result"
    }
   ],
   "source": [
    "df.head()"
   ]
  },
  {
   "cell_type": "markdown",
   "metadata": {},
   "source": [
    "##### Patch to DPO activations"
   ]
  },
  {
   "cell_type": "code",
   "execution_count": 12,
   "metadata": {},
   "outputs": [],
   "source": [
    "def get_dpo_activations(df, targets):\n",
    "    \"\"\"\n",
    "    Extract (layer_idx, neuron_idx, dpo_activation_value) for each (layer_idx, neuron_idx) in targets.\n",
    "    \"\"\"\n",
    "    results = []\n",
    "    for layer_idx, neuron_idx in targets:\n",
    "        row = df[(df['layer_idx'] == layer_idx) & (df['neuron_idx'] == neuron_idx)]\n",
    "        if not row.empty:\n",
    "            act = row['dpo_activation_value'].values[0]\n",
    "            results.append((layer_idx, neuron_idx, act))\n",
    "    return results\n"
   ]
  },
  {
   "cell_type": "code",
   "execution_count": 8,
   "metadata": {},
   "outputs": [
    {
     "name": "stdout",
     "output_type": "stream",
     "text": [
      "[(22, 1061, -0.0312347412109375), (2, 8896, -0.0001000761985778), (14, 2292, -0.0052947998046875), (15, 2454, -0.0001598596572875), (22, 5047, 0.031829833984375), (20, 1349, -0.0015907287597656), (27, 5067, -0.0014009475708007), (13, 6053, -0.0014142990112304), (14, 11281, -0.042633056640625), (19, 4689, 0.0055198669433593), (10, 6660, -0.0087432861328125), (6, 7364, 0.0004408359527587), (1, 13026, -0.0009560585021972), (4, 1609, -0.001169204711914)]\n"
     ]
    }
   ],
   "source": [
    "target_neurons = [(22, 1061), (2, 8896), (14, 2292), (15, 2454), (22, 5047), (20, 1349), (27, 5067), (13, 6053), (14, 11281), (19,4689), (10, 6660), (6, 7364), (1, 13026), (4, 1609)]\n",
    "output_list = get_dpo_activations(df, target_neurons)\n",
    "print(output_list)"
   ]
  },
  {
   "cell_type": "code",
   "execution_count": null,
   "metadata": {},
   "outputs": [],
   "source": [
    "df_subset = pd.DataFrame(output_list, columns=[\"layer_idx\", \"neuron_idx\", \"assigned_value\"])\n",
    "df_subset.to_csv(\"mistral_toxic_neuron_configs.csv\", index=False)"
   ]
  },
  {
   "cell_type": "markdown",
   "metadata": {},
   "source": [
    "##### Extract all neuron indexes from each neuron group"
   ]
  },
  {
   "cell_type": "code",
   "execution_count": 10,
   "metadata": {},
   "outputs": [
    {
     "name": "stdout",
     "output_type": "stream",
     "text": [
      "[(0, 0, 0.0235748291015625), (0, 2, 0.0062141418457031)]\n"
     ]
    }
   ],
   "source": [
    "# Patch all uparrow ones\n",
    "tuples_list = [\n",
    "    (int(row['layer_idx']), int(row['neuron_idx']), row['dpo_activation_value'])\n",
    "    for _, row in df.iterrows()\n",
    "    if (row['projection_diff'] < 0) \n",
    "]\n",
    "\n",
    "print(tuples_list)"
   ]
  },
  {
   "cell_type": "code",
   "execution_count": 35,
   "metadata": {},
   "outputs": [],
   "source": [
    "df_subset = pd.DataFrame(tuples_list, columns=[\"layer_idx\", \"neuron_idx\", \"assigned_value\"])\n",
    "df_subset.to_csv(\"mistral_patch_four_neuron_configs.csv\", index=False)"
   ]
  },
  {
   "cell_type": "code",
   "execution_count": 22,
   "metadata": {},
   "outputs": [
    {
     "name": "stdout",
     "output_type": "stream",
     "text": [
      "48306\n"
     ]
    }
   ],
   "source": [
    "# Patch AP\n",
    "tuples_list = [\n",
    "    (int(row['layer_idx']), int(row['neuron_idx']), row['dpo_activation_value'])\n",
    "    for _, row in df.iterrows()\n",
    "    if (row['pt_cosine_similarity'] < 0 and row['pt_activation_value'] > 0 and row['projection_diff'] > 0) # AP\n",
    "]\n",
    "\n",
    "print(len(tuples_list))"
   ]
  },
  {
   "cell_type": "code",
   "execution_count": 24,
   "metadata": {},
   "outputs": [
    {
     "name": "stdout",
     "output_type": "stream",
     "text": [
      "70928\n"
     ]
    }
   ],
   "source": [
    "# Patch AN\n",
    "tuples_list = [\n",
    "    (int(row['layer_idx']), int(row['neuron_idx']), row['dpo_activation_value'])\n",
    "    for _, row in df.iterrows()\n",
    "    if (row['pt_cosine_similarity'] < 0 and row['pt_activation_value'] < 0 and row['projection_diff'] > 0) # AN\n",
    "]\n",
    "\n",
    "print(len(tuples_list))"
   ]
  },
  {
   "cell_type": "code",
   "execution_count": 26,
   "metadata": {},
   "outputs": [
    {
     "name": "stdout",
     "output_type": "stream",
     "text": [
      "48371\n"
     ]
    }
   ],
   "source": [
    "# Patch TN\n",
    "tuples_list = [\n",
    "    (int(row['layer_idx']), int(row['neuron_idx']), row['dpo_activation_value'])\n",
    "    for _, row in df.iterrows()\n",
    "    if (row['pt_cosine_similarity'] > 0 and row['pt_activation_value'] < 0 and row['projection_diff'] > 0) # TN  \n",
    "]\n",
    "\n",
    "print(len(tuples_list))"
   ]
  },
  {
   "cell_type": "code",
   "execution_count": 28,
   "metadata": {},
   "outputs": [
    {
     "name": "stdout",
     "output_type": "stream",
     "text": [
      "70830\n"
     ]
    }
   ],
   "source": [
    "# Patch TP\n",
    "tuples_list = [\n",
    "    (int(row['layer_idx']), int(row['neuron_idx']), row['dpo_activation_value'])\n",
    "    for _, row in df.iterrows()\n",
    "    if (row['pt_cosine_similarity'] > 0 and row['pt_activation_value'] > 0 and row['projection_diff'] > 0) # TP    \n",
    "]\n",
    "\n",
    "print(len(tuples_list))"
   ]
  },
  {
   "cell_type": "code",
   "execution_count": 30,
   "metadata": {},
   "outputs": [
    {
     "name": "stdout",
     "output_type": "stream",
     "text": [
      "141758\n"
     ]
    }
   ],
   "source": [
    "# Patch TP + AN\n",
    "tuples_list = [\n",
    "    (int(row['layer_idx']), int(row['neuron_idx']), row['dpo_activation_value'])\n",
    "    for _, row in df.iterrows()\n",
    "    if (row['pt_cosine_similarity'] < 0 and row['pt_activation_value'] < 0 and row['projection_diff'] > 0) or # AN\n",
    "       (row['pt_cosine_similarity'] > 0 and row['pt_activation_value'] > 0 and row['projection_diff'] > 0) # TP    \n",
    "]\n",
    "\n",
    "print(len(tuples_list))"
   ]
  },
  {
   "cell_type": "code",
   "execution_count": 32,
   "metadata": {},
   "outputs": [
    {
     "name": "stdout",
     "output_type": "stream",
     "text": [
      "190129\n"
     ]
    }
   ],
   "source": [
    "# Patch TP + AN + TN\n",
    "tuples_list = [\n",
    "    (int(row['layer_idx']), int(row['neuron_idx']), row['dpo_activation_value'])\n",
    "    for _, row in df.iterrows()\n",
    "    if (row['pt_cosine_similarity'] < 0 and row['pt_activation_value'] < 0 and row['projection_diff'] > 0) or # AN\n",
    "       (row['pt_cosine_similarity'] > 0 and row['pt_activation_value'] < 0 and row['projection_diff'] > 0) or # TN\n",
    "       (row['pt_cosine_similarity'] > 0 and row['pt_activation_value'] > 0 and row['projection_diff'] > 0) # TP    \n",
    "]\n",
    "\n",
    "print(len(tuples_list))"
   ]
  },
  {
   "cell_type": "code",
   "execution_count": 34,
   "metadata": {},
   "outputs": [
    {
     "name": "stdout",
     "output_type": "stream",
     "text": [
      "238435\n"
     ]
    }
   ],
   "source": [
    "# Patch all four groups\n",
    "tuples_list = [\n",
    "    (int(row['layer_idx']), int(row['neuron_idx']), row['dpo_activation_value'])\n",
    "    for _, row in df.iterrows()\n",
    "    if (row['pt_cosine_similarity'] < 0 and row['pt_activation_value'] > 0 and row['projection_diff'] > 0) or # AP_down\n",
    "       (row['pt_cosine_similarity'] < 0 and row['pt_activation_value'] < 0 and row['projection_diff'] > 0) or # AN_down\n",
    "       (row['pt_cosine_similarity'] > 0 and row['pt_activation_value'] < 0 and row['projection_diff'] > 0) or # TN_down\n",
    "       (row['pt_cosine_similarity'] > 0 and row['pt_activation_value'] > 0 and row['projection_diff'] > 0) # TP_down\n",
    "]\n",
    "\n",
    "print(len(tuples_list))\n"
   ]
  },
  {
   "cell_type": "markdown",
   "metadata": {},
   "source": [
    "#### Editing down neuron groups"
   ]
  },
  {
   "cell_type": "code",
   "execution_count": 22,
   "metadata": {},
   "outputs": [
    {
     "name": "stdout",
     "output_type": "stream",
     "text": [
      "225617\n"
     ]
    }
   ],
   "source": [
    "scaled_tuples = []\n",
    "\n",
    "for _, row in df.iterrows():\n",
    "    layer, neuron = int(row['layer_idx']), int(row['neuron_idx'])\n",
    "    activation = row['pt_activation_value']\n",
    "\n",
    "    # Identify neuron group\n",
    "    if row['pt_cosine_similarity'] > 0 and row['pt_activation_value'] > 0 and row['projection_diff'] > 0:  # TP\n",
    "        scaled_activation = 0.5 * activation\n",
    "    elif row['pt_cosine_similarity'] < 0 and row['pt_activation_value'] < 0 and row['projection_diff'] > 0:  # AN\n",
    "        scaled_activation = 0.5 * activation\n",
    "    elif row['pt_cosine_similarity'] > 0 and row['pt_activation_value'] < 0 and row['projection_diff'] > 0:  # TN\n",
    "        scaled_activation = 1.5 * activation\n",
    "    elif row['pt_cosine_similarity'] < 0 and row['pt_activation_value'] > 0 and row['projection_diff'] > 0:  # AP\n",
    "        scaled_activation = 1.5 * activation\n",
    "    else:\n",
    "        continue  \n",
    "\n",
    "    scaled_tuples.append((layer, neuron, scaled_activation))\n",
    "\n",
    "print(len(scaled_tuples))"
   ]
  },
  {
   "cell_type": "code",
   "execution_count": 23,
   "metadata": {},
   "outputs": [],
   "source": [
    "df_subset = pd.DataFrame(scaled_tuples, columns=[\"layer_idx\", \"neuron_idx\", \"assigned_value\"])\n",
    "df_subset.to_csv(\"llama3_0.5_1.5_four_down_group.csv\", index=False)"
   ]
  },
  {
   "cell_type": "markdown",
   "metadata": {},
   "source": [
    "##### Tuning-free group identification"
   ]
  },
  {
   "cell_type": "code",
   "execution_count": 6,
   "metadata": {},
   "outputs": [
    {
     "name": "stdout",
     "output_type": "stream",
     "text": [
      "60673\n"
     ]
    }
   ],
   "source": [
    "# Halve TP \n",
    "tuples_list = [\n",
    "    (int(row['layer_idx']), int(row['neuron_idx']), row['pt_activation_value']/2)\n",
    "    for _, row in df.iterrows()\n",
    "    if (row['pt_cosine_similarity'] > 0 and row['pt_activation_value'] > 0) # TP    \n",
    "]\n",
    "print(len(tuples_list))"
   ]
  },
  {
   "cell_type": "code",
   "execution_count": 7,
   "metadata": {},
   "outputs": [
    {
     "name": "stdout",
     "output_type": "stream",
     "text": [
      "[(0, 2, 0.0024471282958984), (0, 10, 0.00921630859375), (0, 27, 0.00556564331054685), (0, 30, 0.0032367706298828), (0, 37, 0.0070533752441406)]\n"
     ]
    }
   ],
   "source": [
    "print(tuples_list[:5])"
   ]
  },
  {
   "cell_type": "code",
   "execution_count": 8,
   "metadata": {},
   "outputs": [],
   "source": [
    "df_subset = pd.DataFrame(tuples_list, columns=[\"layer_idx\", \"neuron_idx\", \"assigned_value\"])\n",
    "df_subset.to_csv(\"llama3_1.15_two_0.85_two_free_neuron_configs.csv\", index=False)"
   ]
  },
  {
   "cell_type": "code",
   "execution_count": 14,
   "metadata": {},
   "outputs": [
    {
     "name": "stdout",
     "output_type": "stream",
     "text": [
      "115029\n"
     ]
    }
   ],
   "source": [
    "# Halve AN\n",
    "tuples_list = [\n",
    "    (int(row['layer_idx']), int(row['neuron_idx']), row['pt_activation_value']/2)\n",
    "    for _, row in df.iterrows()\n",
    "    if (row['pt_cosine_similarity'] < 0 and row['pt_activation_value'] < 0) # AN  \n",
    "]\n",
    "print(len(tuples_list))"
   ]
  },
  {
   "cell_type": "code",
   "execution_count": 16,
   "metadata": {},
   "outputs": [
    {
     "name": "stdout",
     "output_type": "stream",
     "text": [
      "229702\n"
     ]
    }
   ],
   "source": [
    "# Halve TP + AN\n",
    "tuples_list = [\n",
    "    (int(row['layer_idx']), int(row['neuron_idx']), row['pt_activation_value']/2)\n",
    "    for _, row in df.iterrows()\n",
    "    if (row['pt_cosine_similarity'] < 0 and row['pt_activation_value'] < 0) or # AN\n",
    "       (row['pt_cosine_similarity'] > 0 and row['pt_activation_value'] > 0) # TP    \n",
    "]\n",
    "print(len(tuples_list))"
   ]
  },
  {
   "cell_type": "code",
   "execution_count": 18,
   "metadata": {},
   "outputs": [
    {
     "name": "stdout",
     "output_type": "stream",
     "text": [
      "114557\n"
     ]
    }
   ],
   "source": [
    "# 1.5* AP \n",
    "tuples_list = [\n",
    "    (int(row['layer_idx']), int(row['neuron_idx']), row['pt_activation_value']*1.5)\n",
    "    for _, row in df.iterrows()\n",
    "    if (row['pt_cosine_similarity'] < 0 and row['pt_activation_value'] > 0) # AP\n",
    "]\n",
    "print(len(tuples_list))"
   ]
  },
  {
   "cell_type": "code",
   "execution_count": 20,
   "metadata": {},
   "outputs": [
    {
     "name": "stdout",
     "output_type": "stream",
     "text": [
      "114473\n"
     ]
    }
   ],
   "source": [
    "# 1.5* TN\n",
    "tuples_list = [\n",
    "    (int(row['layer_idx']), int(row['neuron_idx']), row['pt_activation_value']*1.5)\n",
    "    for _, row in df.iterrows()\n",
    "    if (row['pt_cosine_similarity'] > 0 and row['pt_activation_value'] < 0) # TN  \n",
    "]\n",
    "print(len(tuples_list))"
   ]
  },
  {
   "cell_type": "code",
   "execution_count": 7,
   "metadata": {},
   "outputs": [
    {
     "name": "stdout",
     "output_type": "stream",
     "text": [
      "225815\n"
     ]
    }
   ],
   "source": [
    "# 1.5* (AP + TN)\n",
    "tuples_list = [\n",
    "    (int(row['layer_idx']), int(row['neuron_idx']), row['pt_activation_value']*1.5)\n",
    "    for _, row in df.iterrows()\n",
    "    if (row['pt_cosine_similarity'] < 0 and row['pt_activation_value'] > 0) or # AP\n",
    "       (row['pt_cosine_similarity'] > 0 and row['pt_activation_value'] < 0) # TN  \n",
    "]\n",
    "print(len(tuples_list))"
   ]
  },
  {
   "cell_type": "code",
   "execution_count": 9,
   "metadata": {},
   "outputs": [
    {
     "name": "stdout",
     "output_type": "stream",
     "text": [
      "454174\n"
     ]
    }
   ],
   "source": [
    "# 0.95* for TP and AN, 1.05* for AP and TN\n",
    "tuples_list = [\n",
    "    (int(row['layer_idx']), int(row['neuron_idx']), row['pt_activation_value'] * 0.85) \n",
    "    if (row['pt_cosine_similarity'] > 0 and row['pt_activation_value'] > 0) or  # TP\n",
    "       (row['pt_cosine_similarity'] < 0 and row['pt_activation_value'] < 0)    # AN\n",
    "    else (int(row['layer_idx']), int(row['neuron_idx']), row['pt_activation_value'] * 1.15)  \n",
    "    for _, row in df.iterrows()\n",
    "    if (row['pt_cosine_similarity'] < 0 and row['pt_activation_value'] > 0) or  # AP\n",
    "       (row['pt_cosine_similarity'] > 0 and row['pt_activation_value'] < 0) or  # TN\n",
    "       (row['pt_cosine_similarity'] > 0 and row['pt_activation_value'] > 0) or  # TP\n",
    "       (row['pt_cosine_similarity'] < 0 and row['pt_activation_value'] < 0)    # AN\n",
    "]\n",
    "\n",
    "print(len(tuples_list))"
   ]
  },
  {
   "cell_type": "code",
   "execution_count": 48,
   "metadata": {},
   "outputs": [
    {
     "name": "stdout",
     "output_type": "stream",
     "text": [
      "458728\n"
     ]
    }
   ],
   "source": [
    "# 0.75* for TP and AN, 1.25* for AP and TN\n",
    "tuples_list = [\n",
    "    (int(row['layer_idx']), int(row['neuron_idx']), row['pt_activation_value'] * 0.75) \n",
    "    if (row['pt_cosine_similarity'] > 0 and row['pt_activation_value'] > 0) or  # TP\n",
    "       (row['pt_cosine_similarity'] < 0 and row['pt_activation_value'] < 0)    # AN\n",
    "    else (int(row['layer_idx']), int(row['neuron_idx']), row['pt_activation_value'] * 1.25)  \n",
    "    for _, row in df.iterrows()\n",
    "    if (row['pt_cosine_similarity'] < 0 and row['pt_activation_value'] > 0) or  # AP\n",
    "       (row['pt_cosine_similarity'] > 0 and row['pt_activation_value'] < 0) or  # TN\n",
    "       (row['pt_cosine_similarity'] > 0 and row['pt_activation_value'] > 0) or  # TP\n",
    "       (row['pt_cosine_similarity'] < 0 and row['pt_activation_value'] < 0)    # AN\n",
    "]\n",
    "\n",
    "print(len(tuples_list))"
   ]
  },
  {
   "cell_type": "code",
   "execution_count": 24,
   "metadata": {},
   "outputs": [
    {
     "name": "stdout",
     "output_type": "stream",
     "text": [
      "458732\n"
     ]
    }
   ],
   "source": [
    "# Halve for TP and AN, 1.5* for AP and TN\n",
    "tuples_list = [\n",
    "    (int(row['layer_idx']), int(row['neuron_idx']), row['pt_activation_value'] / 2)  # Halve activation\n",
    "    if (row['pt_cosine_similarity'] > 0 and row['pt_activation_value'] > 0) or  # TP\n",
    "       (row['pt_cosine_similarity'] < 0 and row['pt_activation_value'] < 0)    # AN\n",
    "    else (int(row['layer_idx']), int(row['neuron_idx']), row['pt_activation_value'] * 1.5)  # 1.5*activation\n",
    "    for _, row in df.iterrows()\n",
    "    if (row['pt_cosine_similarity'] < 0 and row['pt_activation_value'] > 0) or  # AP\n",
    "       (row['pt_cosine_similarity'] > 0 and row['pt_activation_value'] < 0) or  # TN\n",
    "       (row['pt_cosine_similarity'] > 0 and row['pt_activation_value'] > 0) or  # TP\n",
    "       (row['pt_cosine_similarity'] < 0 and row['pt_activation_value'] < 0)    # AN\n",
    "]\n",
    "\n",
    "print(len(tuples_list))\n"
   ]
  },
  {
   "cell_type": "markdown",
   "metadata": {},
   "source": [
    "#### Tuning-free inspired by DPO "
   ]
  },
  {
   "cell_type": "code",
   "execution_count": 105,
   "metadata": {},
   "outputs": [],
   "source": [
    "def select_fraction(df, condition, fraction=0.5, top=True):\n",
    "    \"\"\"\n",
    "    Selects a fraction of the rows from df based on abs(pt_activation_value), either top or bottom fraction.\n",
    "    \"\"\"\n",
    "    group = df[condition].copy()\n",
    "    group['abs_val'] = group['pt_activation_value'].abs()\n",
    "    sorted_group = group.sort_values(by='abs_val', ascending=not top)\n",
    "    n = int(len(sorted_group) * fraction)\n",
    "    selected = sorted_group.head(n)\n",
    "    return selected\n"
   ]
  },
  {
   "cell_type": "code",
   "execution_count": 106,
   "metadata": {},
   "outputs": [],
   "source": [
    "tp_condition = (df['pt_cosine_similarity'] > 0) & (df['pt_activation_value'] > 0)\n",
    "an_condition = (df['pt_cosine_similarity'] < 0) & (df['pt_activation_value'] < 0)\n",
    "ap_condition = (df['pt_cosine_similarity'] < 0) & (df['pt_activation_value'] > 0)\n",
    "tn_condition = (df['pt_cosine_similarity'] > 0) & (df['pt_activation_value'] < 0)\n",
    "\n",
    "tp_frac = 0.1\n",
    "an_frac = 0.1\n",
    "ap_frac = 0.1\n",
    "tn_frac = 0.1\n",
    "\n",
    "tp_sel = select_fraction(df, tp_condition, fraction=tp_frac, top=True)\n",
    "an_sel = select_fraction(df, an_condition, fraction=an_frac, top=True)\n",
    "ap_sel = select_fraction(df, ap_condition, fraction=ap_frac, top=False)\n",
    "tn_sel = select_fraction(df, tn_condition, fraction=tn_frac, top=False)"
   ]
  },
  {
   "cell_type": "code",
   "execution_count": 107,
   "metadata": {},
   "outputs": [
    {
     "name": "stdout",
     "output_type": "stream",
     "text": [
      "23959\n"
     ]
    }
   ],
   "source": [
    "# 0.5, 1.5\n",
    "intervened = []\n",
    "\n",
    "for _, row in pd.concat([tp_sel, an_sel]).iterrows():\n",
    "    intervened.append((int(row['layer_idx']), int(row['neuron_idx']), row['pt_activation_value'] * 0))\n",
    "\n",
    "for _, row in pd.concat([ap_sel, tn_sel]).iterrows():\n",
    "    intervened.append((int(row['layer_idx']), int(row['neuron_idx']), row['pt_activation_value'] * 2))\n",
    "\n",
    "print(len(intervened))"
   ]
  },
  {
   "cell_type": "code",
   "execution_count": null,
   "metadata": {},
   "outputs": [],
   "source": [
    "df_subset = pd.DataFrame(intervened, columns=[\"layer_idx\", \"neuron_idx\", \"assigned_value\"])\n",
    "df_subset.to_csv(\"gemma2_0_2_two_0.1_free_dpo.csv\", index=False)"
   ]
  }
 ],
 "metadata": {
  "kernelspec": {
   "display_name": "toxicity",
   "language": "python",
   "name": "python3"
  },
  "language_info": {
   "codemirror_mode": {
    "name": "ipython",
    "version": 3
   },
   "file_extension": ".py",
   "mimetype": "text/x-python",
   "name": "python",
   "nbconvert_exporter": "python",
   "pygments_lexer": "ipython3",
   "version": "3.12.7"
  },
  "orig_nbformat": 4
 },
 "nbformat": 4,
 "nbformat_minor": 2
}
