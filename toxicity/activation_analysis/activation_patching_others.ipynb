{
 "cells": [
  {
   "cell_type": "code",
   "execution_count": 1,
   "metadata": {},
   "outputs": [],
   "source": [
    "import pandas as pd\n",
    "import numpy as np\n",
    "from scipy.optimize import root_scalar"
   ]
  },
  {
   "cell_type": "code",
   "execution_count": 2,
   "metadata": {},
   "outputs": [
    {
     "name": "stdout",
     "output_type": "stream",
     "text": [
      "   layer_idx  neuron_idx  pt_cosine_similarity  pt_projection_value  \\\n",
      "0          0           0              0.022415        -6.556511e-07   \n",
      "1          0           1             -0.020233        -7.152557e-07   \n",
      "2          0           2             -0.004261        -5.364418e-07   \n",
      "3          0           3              0.013405        -8.344650e-07   \n",
      "4          0           4             -0.019363         4.768372e-07   \n",
      "\n",
      "   pt_activation_value  dpo_cosine_similarity  dpo_projection_value  \\\n",
      "0            -0.000160               0.022430         -2.205372e-06   \n",
      "1             0.000187              -0.020126         -1.132488e-06   \n",
      "2             0.000738              -0.004234         -4.172325e-07   \n",
      "3            -0.000350               0.013634         -9.536743e-07   \n",
      "4            -0.000139              -0.019455          2.384186e-07   \n",
      "\n",
      "   dpo_activation_value  \n",
      "0             -0.000520  \n",
      "1              0.000304  \n",
      "2              0.000550  \n",
      "3             -0.000379  \n",
      "4             -0.000064  \n"
     ]
    }
   ],
   "source": [
    "# csv_files = [\"/data/kebl6672/dpo-toxic-general/toxicity/mistral_neuron_cossims.csv\", \"/data/kebl6672/dpo-toxic-general/toxicity/mistral_neuron_projections.csv\", \"/data/kebl6672/dpo-toxic-general/toxicity/mistral_dpo_neuron_cossims.csv\", \"/data/kebl6672/dpo-toxic-general/toxicity/mistral_dpo_neuron_projections.csv\"]\n",
    "\n",
    "# # Read all CSV files into dataframes\n",
    "# dfs = [pd.read_csv(file) for file in csv_files]\n",
    "\n",
    "# # Merge dataframes on 'layer_idx' and 'neuron_idx'\n",
    "# merged_df = dfs[0]\n",
    "# for df in dfs[1:]:\n",
    "#     merged_df = pd.merge(merged_df, df, on=['layer_idx', 'neuron_idx'], how='outer')\n",
    "\n",
    "# # Save the merged dataframe to a new CSV file\n",
    "# merged_df.to_csv(\"/data/kebl6672/dpo-toxic-general/toxicity/mistral_all_neuron_metrics.csv\", index=False)\n",
    "\n",
    "# # Display the first few rows\n",
    "# print(merged_df.head())"
   ]
  },
  {
   "cell_type": "code",
   "execution_count": 2,
   "metadata": {},
   "outputs": [],
   "source": [
    "# Use old version!\n",
    "df = pd.read_csv('/data/kebl6672/dpo-toxic-general/toxicity/llama3_all_neuron_metrics.csv')"
   ]
  },
  {
   "cell_type": "code",
   "execution_count": 3,
   "metadata": {},
   "outputs": [],
   "source": [
    "df = df.replace([np.inf, -np.inf], np.nan).dropna()"
   ]
  },
  {
   "cell_type": "code",
   "execution_count": 4,
   "metadata": {},
   "outputs": [],
   "source": [
    "# df['activation_diff'] = df['dpo_activation_value'] - df['pt_activation_value']\n",
    "# df['projection_diff'] = df['dpo_projection_value'] - df['pt_projection_value']"
   ]
  },
  {
   "cell_type": "code",
   "execution_count": 4,
   "metadata": {},
   "outputs": [
    {
     "data": {
      "text/html": [
       "<div>\n",
       "<style scoped>\n",
       "    .dataframe tbody tr th:only-of-type {\n",
       "        vertical-align: middle;\n",
       "    }\n",
       "\n",
       "    .dataframe tbody tr th {\n",
       "        vertical-align: top;\n",
       "    }\n",
       "\n",
       "    .dataframe thead th {\n",
       "        text-align: right;\n",
       "    }\n",
       "</style>\n",
       "<table border=\"1\" class=\"dataframe\">\n",
       "  <thead>\n",
       "    <tr style=\"text-align: right;\">\n",
       "      <th></th>\n",
       "      <th>layer_idx</th>\n",
       "      <th>neuron_idx</th>\n",
       "      <th>dpo_cosine_similarity</th>\n",
       "      <th>dpo_projection_value</th>\n",
       "      <th>dpo_activation_value</th>\n",
       "      <th>pt_cosine_similarity</th>\n",
       "      <th>pt_projection_value</th>\n",
       "      <th>pt_activation_value</th>\n",
       "    </tr>\n",
       "  </thead>\n",
       "  <tbody>\n",
       "    <tr>\n",
       "      <th>0</th>\n",
       "      <td>0</td>\n",
       "      <td>0</td>\n",
       "      <td>0.008034</td>\n",
       "      <td>-0.002918</td>\n",
       "      <td>-0.000184</td>\n",
       "      <td>0.008034</td>\n",
       "      <td>-0.002989</td>\n",
       "      <td>-0.000189</td>\n",
       "    </tr>\n",
       "    <tr>\n",
       "      <th>1</th>\n",
       "      <td>0</td>\n",
       "      <td>1</td>\n",
       "      <td>-0.000513</td>\n",
       "      <td>-0.000097</td>\n",
       "      <td>0.000095</td>\n",
       "      <td>-0.000513</td>\n",
       "      <td>-0.000133</td>\n",
       "      <td>0.000130</td>\n",
       "    </tr>\n",
       "    <tr>\n",
       "      <th>2</th>\n",
       "      <td>0</td>\n",
       "      <td>2</td>\n",
       "      <td>0.002647</td>\n",
       "      <td>-0.001558</td>\n",
       "      <td>-0.000323</td>\n",
       "      <td>0.002647</td>\n",
       "      <td>-0.001447</td>\n",
       "      <td>-0.000300</td>\n",
       "    </tr>\n",
       "    <tr>\n",
       "      <th>3</th>\n",
       "      <td>0</td>\n",
       "      <td>3</td>\n",
       "      <td>-0.044128</td>\n",
       "      <td>0.002867</td>\n",
       "      <td>-0.000034</td>\n",
       "      <td>-0.044128</td>\n",
       "      <td>0.010277</td>\n",
       "      <td>-0.000121</td>\n",
       "    </tr>\n",
       "    <tr>\n",
       "      <th>4</th>\n",
       "      <td>0</td>\n",
       "      <td>4</td>\n",
       "      <td>0.021164</td>\n",
       "      <td>-0.008995</td>\n",
       "      <td>-0.000219</td>\n",
       "      <td>0.021164</td>\n",
       "      <td>-0.007141</td>\n",
       "      <td>-0.000174</td>\n",
       "    </tr>\n",
       "  </tbody>\n",
       "</table>\n",
       "</div>"
      ],
      "text/plain": [
       "   layer_idx  neuron_idx  dpo_cosine_similarity  dpo_projection_value  \\\n",
       "0          0           0               0.008034             -0.002918   \n",
       "1          0           1              -0.000513             -0.000097   \n",
       "2          0           2               0.002647             -0.001558   \n",
       "3          0           3              -0.044128              0.002867   \n",
       "4          0           4               0.021164             -0.008995   \n",
       "\n",
       "   dpo_activation_value  pt_cosine_similarity  pt_projection_value  \\\n",
       "0             -0.000184              0.008034            -0.002989   \n",
       "1              0.000095             -0.000513            -0.000133   \n",
       "2             -0.000323              0.002647            -0.001447   \n",
       "3             -0.000034             -0.044128             0.010277   \n",
       "4             -0.000219              0.021164            -0.007141   \n",
       "\n",
       "   pt_activation_value  \n",
       "0            -0.000189  \n",
       "1             0.000130  \n",
       "2            -0.000300  \n",
       "3            -0.000121  \n",
       "4            -0.000174  "
      ]
     },
     "execution_count": 4,
     "metadata": {},
     "output_type": "execute_result"
    }
   ],
   "source": [
    "df.head()"
   ]
  },
  {
   "cell_type": "markdown",
   "metadata": {},
   "source": [
    "##### Patch to DPO activations"
   ]
  },
  {
   "cell_type": "code",
   "execution_count": 12,
   "metadata": {},
   "outputs": [],
   "source": [
    "def get_dpo_activations(df, targets):\n",
    "    \"\"\"\n",
    "    Extract (layer_idx, neuron_idx, dpo_activation_value) for each (layer_idx, neuron_idx) in targets.\n",
    "    \"\"\"\n",
    "    results = []\n",
    "    for layer_idx, neuron_idx in targets:\n",
    "        row = df[(df['layer_idx'] == layer_idx) & (df['neuron_idx'] == neuron_idx)]\n",
    "        if not row.empty:\n",
    "            act = row['dpo_activation_value'].values[0]\n",
    "            results.append((layer_idx, neuron_idx, act))\n",
    "    return results\n"
   ]
  },
  {
   "cell_type": "code",
   "execution_count": 8,
   "metadata": {},
   "outputs": [
    {
     "name": "stdout",
     "output_type": "stream",
     "text": [
      "[(22, 1061, -0.0312347412109375), (2, 8896, -0.0001000761985778), (14, 2292, -0.0052947998046875), (15, 2454, -0.0001598596572875), (22, 5047, 0.031829833984375), (20, 1349, -0.0015907287597656), (27, 5067, -0.0014009475708007), (13, 6053, -0.0014142990112304), (14, 11281, -0.042633056640625), (19, 4689, 0.0055198669433593), (10, 6660, -0.0087432861328125), (6, 7364, 0.0004408359527587), (1, 13026, -0.0009560585021972), (4, 1609, -0.001169204711914)]\n"
     ]
    }
   ],
   "source": [
    "target_neurons = [(22, 1061), (2, 8896), (14, 2292), (15, 2454), (22, 5047), (20, 1349), (27, 5067), (13, 6053), (14, 11281), (19,4689), (10, 6660), (6, 7364), (1, 13026), (4, 1609)]\n",
    "output_list = get_dpo_activations(df, target_neurons)\n",
    "print(output_list)"
   ]
  },
  {
   "cell_type": "code",
   "execution_count": null,
   "metadata": {},
   "outputs": [],
   "source": [
    "df_subset = pd.DataFrame(output_list, columns=[\"layer_idx\", \"neuron_idx\", \"assigned_value\"])\n",
    "df_subset.to_csv(\"mistral_toxic_neuron_configs.csv\", index=False)"
   ]
  },
  {
   "cell_type": "markdown",
   "metadata": {},
   "source": [
    "##### Extract all neuron indexes from each neuron group"
   ]
  },
  {
   "cell_type": "code",
   "execution_count": 10,
   "metadata": {},
   "outputs": [
    {
     "name": "stdout",
     "output_type": "stream",
     "text": [
      "[(0, 0, 0.0235748291015625), (0, 2, 0.0062141418457031)]\n"
     ]
    }
   ],
   "source": [
    "# Patch all uparrow ones\n",
    "tuples_list = [\n",
    "    (int(row['layer_idx']), int(row['neuron_idx']), row['dpo_activation_value'])\n",
    "    for _, row in df.iterrows()\n",
    "    if (row['projection_diff'] < 0) \n",
    "]\n",
    "\n",
    "print(tuples_list)"
   ]
  },
  {
   "cell_type": "code",
   "execution_count": 35,
   "metadata": {},
   "outputs": [],
   "source": [
    "df_subset = pd.DataFrame(tuples_list, columns=[\"layer_idx\", \"neuron_idx\", \"assigned_value\"])\n",
    "df_subset.to_csv(\"mistral_patch_four_neuron_configs.csv\", index=False)"
   ]
  },
  {
   "cell_type": "code",
   "execution_count": 22,
   "metadata": {},
   "outputs": [
    {
     "name": "stdout",
     "output_type": "stream",
     "text": [
      "48306\n"
     ]
    }
   ],
   "source": [
    "# Patch AP\n",
    "tuples_list = [\n",
    "    (int(row['layer_idx']), int(row['neuron_idx']), row['dpo_activation_value'])\n",
    "    for _, row in df.iterrows()\n",
    "    if (row['pt_cosine_similarity'] < 0 and row['pt_activation_value'] > 0 and row['projection_diff'] > 0) # AP\n",
    "]\n",
    "\n",
    "print(len(tuples_list))"
   ]
  },
  {
   "cell_type": "code",
   "execution_count": 24,
   "metadata": {},
   "outputs": [
    {
     "name": "stdout",
     "output_type": "stream",
     "text": [
      "70928\n"
     ]
    }
   ],
   "source": [
    "# Patch AN\n",
    "tuples_list = [\n",
    "    (int(row['layer_idx']), int(row['neuron_idx']), row['dpo_activation_value'])\n",
    "    for _, row in df.iterrows()\n",
    "    if (row['pt_cosine_similarity'] < 0 and row['pt_activation_value'] < 0 and row['projection_diff'] > 0) # AN\n",
    "]\n",
    "\n",
    "print(len(tuples_list))"
   ]
  },
  {
   "cell_type": "code",
   "execution_count": 26,
   "metadata": {},
   "outputs": [
    {
     "name": "stdout",
     "output_type": "stream",
     "text": [
      "48371\n"
     ]
    }
   ],
   "source": [
    "# Patch TN\n",
    "tuples_list = [\n",
    "    (int(row['layer_idx']), int(row['neuron_idx']), row['dpo_activation_value'])\n",
    "    for _, row in df.iterrows()\n",
    "    if (row['pt_cosine_similarity'] > 0 and row['pt_activation_value'] < 0 and row['projection_diff'] > 0) # TN  \n",
    "]\n",
    "\n",
    "print(len(tuples_list))"
   ]
  },
  {
   "cell_type": "code",
   "execution_count": 28,
   "metadata": {},
   "outputs": [
    {
     "name": "stdout",
     "output_type": "stream",
     "text": [
      "70830\n"
     ]
    }
   ],
   "source": [
    "# Patch TP\n",
    "tuples_list = [\n",
    "    (int(row['layer_idx']), int(row['neuron_idx']), row['dpo_activation_value'])\n",
    "    for _, row in df.iterrows()\n",
    "    if (row['pt_cosine_similarity'] > 0 and row['pt_activation_value'] > 0 and row['projection_diff'] > 0) # TP    \n",
    "]\n",
    "\n",
    "print(len(tuples_list))"
   ]
  },
  {
   "cell_type": "code",
   "execution_count": 30,
   "metadata": {},
   "outputs": [
    {
     "name": "stdout",
     "output_type": "stream",
     "text": [
      "141758\n"
     ]
    }
   ],
   "source": [
    "# Patch TP + AN\n",
    "tuples_list = [\n",
    "    (int(row['layer_idx']), int(row['neuron_idx']), row['dpo_activation_value'])\n",
    "    for _, row in df.iterrows()\n",
    "    if (row['pt_cosine_similarity'] < 0 and row['pt_activation_value'] < 0 and row['projection_diff'] > 0) or # AN\n",
    "       (row['pt_cosine_similarity'] > 0 and row['pt_activation_value'] > 0 and row['projection_diff'] > 0) # TP    \n",
    "]\n",
    "\n",
    "print(len(tuples_list))"
   ]
  },
  {
   "cell_type": "code",
   "execution_count": 32,
   "metadata": {},
   "outputs": [
    {
     "name": "stdout",
     "output_type": "stream",
     "text": [
      "190129\n"
     ]
    }
   ],
   "source": [
    "# Patch TP + AN + TN\n",
    "tuples_list = [\n",
    "    (int(row['layer_idx']), int(row['neuron_idx']), row['dpo_activation_value'])\n",
    "    for _, row in df.iterrows()\n",
    "    if (row['pt_cosine_similarity'] < 0 and row['pt_activation_value'] < 0 and row['projection_diff'] > 0) or # AN\n",
    "       (row['pt_cosine_similarity'] > 0 and row['pt_activation_value'] < 0 and row['projection_diff'] > 0) or # TN\n",
    "       (row['pt_cosine_similarity'] > 0 and row['pt_activation_value'] > 0 and row['projection_diff'] > 0) # TP    \n",
    "]\n",
    "\n",
    "print(len(tuples_list))"
   ]
  },
  {
   "cell_type": "code",
   "execution_count": 34,
   "metadata": {},
   "outputs": [
    {
     "name": "stdout",
     "output_type": "stream",
     "text": [
      "238435\n"
     ]
    }
   ],
   "source": [
    "# Patch all four groups\n",
    "tuples_list = [\n",
    "    (int(row['layer_idx']), int(row['neuron_idx']), row['dpo_activation_value'])\n",
    "    for _, row in df.iterrows()\n",
    "    if (row['pt_cosine_similarity'] < 0 and row['pt_activation_value'] > 0 and row['projection_diff'] > 0) or # AP\n",
    "       (row['pt_cosine_similarity'] < 0 and row['pt_activation_value'] < 0 and row['projection_diff'] > 0) or # AN\n",
    "       (row['pt_cosine_similarity'] > 0 and row['pt_activation_value'] < 0 and row['projection_diff'] > 0) or # TN\n",
    "       (row['pt_cosine_similarity'] > 0 and row['pt_activation_value'] > 0 and row['projection_diff'] > 0) # TP    \n",
    "]\n",
    "\n",
    "print(len(tuples_list))\n"
   ]
  },
  {
   "cell_type": "markdown",
   "metadata": {},
   "source": [
    "##### Tuning-free group identification"
   ]
  },
  {
   "cell_type": "code",
   "execution_count": 6,
   "metadata": {},
   "outputs": [
    {
     "name": "stdout",
     "output_type": "stream",
     "text": [
      "60673\n"
     ]
    }
   ],
   "source": [
    "# Halve TP \n",
    "tuples_list = [\n",
    "    (int(row['layer_idx']), int(row['neuron_idx']), row['pt_activation_value']/2)\n",
    "    for _, row in df.iterrows()\n",
    "    if (row['pt_cosine_similarity'] > 0 and row['pt_activation_value'] > 0) # TP    \n",
    "]\n",
    "print(len(tuples_list))"
   ]
  },
  {
   "cell_type": "code",
   "execution_count": 7,
   "metadata": {},
   "outputs": [
    {
     "name": "stdout",
     "output_type": "stream",
     "text": [
      "[(0, 2, 0.0024471282958984), (0, 10, 0.00921630859375), (0, 27, 0.00556564331054685), (0, 30, 0.0032367706298828), (0, 37, 0.0070533752441406)]\n"
     ]
    }
   ],
   "source": [
    "print(tuples_list[:5])"
   ]
  },
  {
   "cell_type": "code",
   "execution_count": 8,
   "metadata": {},
   "outputs": [],
   "source": [
    "df_subset = pd.DataFrame(tuples_list, columns=[\"layer_idx\", \"neuron_idx\", \"assigned_value\"])\n",
    "df_subset.to_csv(\"llama3_1.15_two_0.85_two_free_neuron_configs.csv\", index=False)"
   ]
  },
  {
   "cell_type": "code",
   "execution_count": 14,
   "metadata": {},
   "outputs": [
    {
     "name": "stdout",
     "output_type": "stream",
     "text": [
      "115029\n"
     ]
    }
   ],
   "source": [
    "# Halve AN\n",
    "tuples_list = [\n",
    "    (int(row['layer_idx']), int(row['neuron_idx']), row['pt_activation_value']/2)\n",
    "    for _, row in df.iterrows()\n",
    "    if (row['pt_cosine_similarity'] < 0 and row['pt_activation_value'] < 0) # AN  \n",
    "]\n",
    "print(len(tuples_list))"
   ]
  },
  {
   "cell_type": "code",
   "execution_count": 16,
   "metadata": {},
   "outputs": [
    {
     "name": "stdout",
     "output_type": "stream",
     "text": [
      "229702\n"
     ]
    }
   ],
   "source": [
    "# Halve TP + AN\n",
    "tuples_list = [\n",
    "    (int(row['layer_idx']), int(row['neuron_idx']), row['pt_activation_value']/2)\n",
    "    for _, row in df.iterrows()\n",
    "    if (row['pt_cosine_similarity'] < 0 and row['pt_activation_value'] < 0) or # AN\n",
    "       (row['pt_cosine_similarity'] > 0 and row['pt_activation_value'] > 0) # TP    \n",
    "]\n",
    "print(len(tuples_list))"
   ]
  },
  {
   "cell_type": "code",
   "execution_count": 18,
   "metadata": {},
   "outputs": [
    {
     "name": "stdout",
     "output_type": "stream",
     "text": [
      "114557\n"
     ]
    }
   ],
   "source": [
    "# 1.5* AP \n",
    "tuples_list = [\n",
    "    (int(row['layer_idx']), int(row['neuron_idx']), row['pt_activation_value']*1.5)\n",
    "    for _, row in df.iterrows()\n",
    "    if (row['pt_cosine_similarity'] < 0 and row['pt_activation_value'] > 0) # AP\n",
    "]\n",
    "print(len(tuples_list))"
   ]
  },
  {
   "cell_type": "code",
   "execution_count": 20,
   "metadata": {},
   "outputs": [
    {
     "name": "stdout",
     "output_type": "stream",
     "text": [
      "114473\n"
     ]
    }
   ],
   "source": [
    "# 1.5* TN\n",
    "tuples_list = [\n",
    "    (int(row['layer_idx']), int(row['neuron_idx']), row['pt_activation_value']*1.5)\n",
    "    for _, row in df.iterrows()\n",
    "    if (row['pt_cosine_similarity'] > 0 and row['pt_activation_value'] < 0) # TN  \n",
    "]\n",
    "print(len(tuples_list))"
   ]
  },
  {
   "cell_type": "code",
   "execution_count": 7,
   "metadata": {},
   "outputs": [
    {
     "name": "stdout",
     "output_type": "stream",
     "text": [
      "225815\n"
     ]
    }
   ],
   "source": [
    "# 1.5* (AP + TN)\n",
    "tuples_list = [\n",
    "    (int(row['layer_idx']), int(row['neuron_idx']), row['pt_activation_value']*1.5)\n",
    "    for _, row in df.iterrows()\n",
    "    if (row['pt_cosine_similarity'] < 0 and row['pt_activation_value'] > 0) or # AP\n",
    "       (row['pt_cosine_similarity'] > 0 and row['pt_activation_value'] < 0) # TN  \n",
    "]\n",
    "print(len(tuples_list))"
   ]
  },
  {
   "cell_type": "code",
   "execution_count": 9,
   "metadata": {},
   "outputs": [
    {
     "name": "stdout",
     "output_type": "stream",
     "text": [
      "454174\n"
     ]
    }
   ],
   "source": [
    "# 0.95* for TP and AN, 1.05* for AP and TN\n",
    "tuples_list = [\n",
    "    (int(row['layer_idx']), int(row['neuron_idx']), row['pt_activation_value'] * 0.85) \n",
    "    if (row['pt_cosine_similarity'] > 0 and row['pt_activation_value'] > 0) or  # TP\n",
    "       (row['pt_cosine_similarity'] < 0 and row['pt_activation_value'] < 0)    # AN\n",
    "    else (int(row['layer_idx']), int(row['neuron_idx']), row['pt_activation_value'] * 1.15)  \n",
    "    for _, row in df.iterrows()\n",
    "    if (row['pt_cosine_similarity'] < 0 and row['pt_activation_value'] > 0) or  # AP\n",
    "       (row['pt_cosine_similarity'] > 0 and row['pt_activation_value'] < 0) or  # TN\n",
    "       (row['pt_cosine_similarity'] > 0 and row['pt_activation_value'] > 0) or  # TP\n",
    "       (row['pt_cosine_similarity'] < 0 and row['pt_activation_value'] < 0)    # AN\n",
    "]\n",
    "\n",
    "print(len(tuples_list))"
   ]
  },
  {
   "cell_type": "code",
   "execution_count": 48,
   "metadata": {},
   "outputs": [
    {
     "name": "stdout",
     "output_type": "stream",
     "text": [
      "458728\n"
     ]
    }
   ],
   "source": [
    "# 0.75* for TP and AN, 1.25* for AP and TN\n",
    "tuples_list = [\n",
    "    (int(row['layer_idx']), int(row['neuron_idx']), row['pt_activation_value'] * 0.75) \n",
    "    if (row['pt_cosine_similarity'] > 0 and row['pt_activation_value'] > 0) or  # TP\n",
    "       (row['pt_cosine_similarity'] < 0 and row['pt_activation_value'] < 0)    # AN\n",
    "    else (int(row['layer_idx']), int(row['neuron_idx']), row['pt_activation_value'] * 1.25)  \n",
    "    for _, row in df.iterrows()\n",
    "    if (row['pt_cosine_similarity'] < 0 and row['pt_activation_value'] > 0) or  # AP\n",
    "       (row['pt_cosine_similarity'] > 0 and row['pt_activation_value'] < 0) or  # TN\n",
    "       (row['pt_cosine_similarity'] > 0 and row['pt_activation_value'] > 0) or  # TP\n",
    "       (row['pt_cosine_similarity'] < 0 and row['pt_activation_value'] < 0)    # AN\n",
    "]\n",
    "\n",
    "print(len(tuples_list))"
   ]
  },
  {
   "cell_type": "code",
   "execution_count": 24,
   "metadata": {},
   "outputs": [
    {
     "name": "stdout",
     "output_type": "stream",
     "text": [
      "458732\n"
     ]
    }
   ],
   "source": [
    "# Halve for TP and AN, 1.5* for AP and TN\n",
    "tuples_list = [\n",
    "    (int(row['layer_idx']), int(row['neuron_idx']), row['pt_activation_value'] / 2)  # Halve activation\n",
    "    if (row['pt_cosine_similarity'] > 0 and row['pt_activation_value'] > 0) or  # TP\n",
    "       (row['pt_cosine_similarity'] < 0 and row['pt_activation_value'] < 0)    # AN\n",
    "    else (int(row['layer_idx']), int(row['neuron_idx']), row['pt_activation_value'] * 1.5)  # 1.5*activation\n",
    "    for _, row in df.iterrows()\n",
    "    if (row['pt_cosine_similarity'] < 0 and row['pt_activation_value'] > 0) or  # AP\n",
    "       (row['pt_cosine_similarity'] > 0 and row['pt_activation_value'] < 0) or  # TN\n",
    "       (row['pt_cosine_similarity'] > 0 and row['pt_activation_value'] > 0) or  # TP\n",
    "       (row['pt_cosine_similarity'] < 0 and row['pt_activation_value'] < 0)    # AN\n",
    "]\n",
    "\n",
    "print(len(tuples_list))\n"
   ]
  }
 ],
 "metadata": {
  "kernelspec": {
   "display_name": "toxicity",
   "language": "python",
   "name": "python3"
  },
  "language_info": {
   "codemirror_mode": {
    "name": "ipython",
    "version": 3
   },
   "file_extension": ".py",
   "mimetype": "text/x-python",
   "name": "python",
   "nbconvert_exporter": "python",
   "pygments_lexer": "ipython3",
   "version": "3.12.7"
  },
  "orig_nbformat": 4
 },
 "nbformat": 4,
 "nbformat_minor": 2
}
